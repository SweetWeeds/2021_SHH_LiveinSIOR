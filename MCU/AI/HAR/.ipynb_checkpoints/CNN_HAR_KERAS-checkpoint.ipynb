{
 "cells": [
  {
   "cell_type": "markdown",
   "metadata": {},
   "source": [
    "```python\n",
    "#!/usr/bin/env python\n",
    "# coding: utf-8 \n",
    "\n",
    "#   This software component is licensed by ST under BSD 3-Clause license,\n",
    "#   the \"License\"; You may not use this file except in compliance with the\n",
    "#   License. You may obtain a copy of the License at:\n",
    "#                        https://opensource.org/licenses/BSD-3-Clause\n",
    "  \n",
    "\n",
    "'''\n",
    "Training script of human activity recognition system (HAR), based on two different Convolutional Neural Network (CNN) architectures \n",
    "'''\n",
    "```"
   ]
  },
  {
   "cell_type": "markdown",
   "metadata": {},
   "source": [
    "# Step by Step HAR Training STM32CubeAI\n",
    "This notebook provides a step by step demonstration of a simple <u>H</u>uman <u>A</u>ctivity <u>R</u>ecognition system (HAR), based on a convolutional networks (CNN). This script provides a simple data preperation script through `DataHelper` class and let user to preprocess, split, and segment the dataset to bring it into the form which can be used for training and validation of the HAR CNN. It also has a `CNNHandler` class which builds, trains and validate a CNN for a given set of input and output tensors. The `CNNHandler` can create one of the two provided CNN architectures namely, **IGN** and **GMP**.\n",
    "\n",
    "All the implementations are done in Python using [Keras](https:keras.io/) with [Tensorflow](https://www.tensorflow.org/) as backend.\n",
    "\n",
    "For demonstration purposes this script uses two datasets created for HAR using accelerometer sensor. \n",
    "\n",
    "* WISDM, a public dataset provided by <u>WI</u>reless <u>S</u>ensing <u>D</u>ata <u>M</u>ining group. The details of the dataset are available [here](http://www.cis.fordham.edu/wisdm/dataset.php).\n",
    "\n",
    "* AST our own propritery dataset.\n",
    "\n",
    "**Note**: We are not providing any dataset in the function pack. The user can download WISDM dataset from [here](http://www.cis.fordham.edu/wisdm/dataset.php), while AST is a private dataset and is not provided.\n",
    "\n",
    "Following figure shows the detailed workflow of HAR.\n",
    "\n",
    "\n",
    "<p align=\"center\">\n",
    "<img width=\"760\" height=\"400\" src=\"workflow.png\">\n",
    "</p>\n",
    "\n",
    "Let us start the implementation now."
   ]
  },
  {
   "cell_type": "markdown",
   "metadata": {},
   "source": [
    "## Step1 : Import necessary dependencies\n",
    "Following section imports all the required dependencies. This also sets seeds for random number generators in Numpy and Tensorflow environments to make the results reproducibile."
   ]
  },
  {
   "cell_type": "code",
   "execution_count": 1,
   "metadata": {},
   "outputs": [],
   "source": [
    "import numpy as np\n",
    "np.random.seed(6213)\n",
    "\n",
    "import argparse, os, logging, warnings\n",
    "from os.path import isfile, join\n",
    "from datetime import datetime\n",
    "\n",
    "# private libraries\n",
    "from PrepareDataset import DataHelper\n",
    "from HARNN import ANNModelHandler\n",
    "\n",
    "# for using callbacks to save the model during training and comparing the results at every epoch\n",
    "from keras.callbacks import ModelCheckpoint\n",
    "\n",
    "# disabling annoying warnings originating from Tensorflow\n",
    "logging.getLogger('tensorflow').disabled = True\n",
    "\n",
    "import tensorflow as tf\n",
    "tf.compat.v1.set_random_seed(6213)\n",
    "\n",
    "# disabling annoying warnings originating from python\n",
    "warnings.simplefilter(\"ignore\")"
   ]
  },
  {
   "cell_type": "markdown",
   "metadata": {},
   "source": [
    "## Step2: Set environment variables\n",
    "Following section sets some user variables which will later be used for:\n",
    "\n",
    "* preparing the dataset.\n",
    "* preparing the neural networks.\n",
    "* training the neural networks.\n",
    "* validating the neural network."
   ]
  },
  {
   "cell_type": "code",
   "execution_count": 2,
   "metadata": {},
   "outputs": [],
   "source": [
    "# data variables\n",
    "dataset = 'WISDM'\n",
    "merge = True\n",
    "segmentLength = 92\n",
    "stepSize = 92\n",
    "dataDir = 'datasets/ai_logged_data'\n",
    "preprocessing = True\n",
    "\n",
    "# neural network variables\n",
    "modelName = 'IGN'\n",
    "\n",
    "# training variables\n",
    "trainTestSplit = 0.7\n",
    "trainValidationSplit = 0.6\n",
    "nEpochs = 200\n",
    "learningRate = 0.00005\n",
    "decay = 5e-6\n",
    "batchSize = 64\n",
    "verbosity = 1\n",
    "nrSamplesPostValid = 2"
   ]
  },
  {
   "cell_type": "markdown",
   "metadata": {},
   "source": [
    "## Step3: Result directory\n",
    "Each run can have different variables and to compare the results of different choices, such as different segment size for the window for data, different overlap settings etc, we need to save the results. Following section creates a result directory to save results for the current run. The name of the directory has following format. `Mmm_dd_yyyy_hh_mm_ss_dataset_model_seqLen_stepSize_epochs_results`, and example name for directory can be `Oct_24_2019_14_31_20_WISDM_IGN_24_16_20_results`, which shows the process was started at October 24, 2019, at 14:31:20, the dataset used was WISDM, with segment size = 24, segment step = 16, and Nr of epochs = 20."
   ]
  },
  {
   "cell_type": "code",
   "execution_count": 3,
   "metadata": {},
   "outputs": [],
   "source": [
    "# if not already exist create a parent directory for results.\n",
    "if not os.path.exists( './results/'):\n",
    "    os.mkdir( './results/' )\n",
    "resultDirName = 'results/{}/'.format(datetime.now().strftime( \"%Y_%b_%d_%H_%M_%S\" ) )\n",
    "os.mkdir( resultDirName )\n",
    "infoString = 'runTime : {}\\nDatabase : {}\\nNetwork : {}\\nSeqLength : {}\\nStepSize : {}\\nEpochs : {}\\n'.format( datetime.now().strftime(\"%Y-%b-%d at %H:%M:%S\"), dataset, modelName, segmentLength, stepSize, nEpochs )\n",
    "with open( resultDirName + 'info.txt', 'w' ) as text_file:\n",
    "    text_file.write( infoString )"
   ]
  },
  {
   "cell_type": "markdown",
   "metadata": {},
   "source": [
    "## Step4: Create a `DataHelper` object\n",
    "The script in the following section creates a `DataHelper` object to preprocess, segment and split the dataset as well as to create one-hot-code labeling for the outputs to make the data training and testing ready using the choices set by the user in **Step2**."
   ]
  },
  {
   "cell_type": "code",
   "execution_count": 4,
   "metadata": {},
   "outputs": [],
   "source": [
    "myDataHelper = DataHelper( dataset = dataset, loggedDataDir = dataDir, merge = merge,\n",
    "                            modelName = modelName, seqLength = segmentLength, seqStep = stepSize,\n",
    "                            preprocessing = preprocessing, trainTestSplit = trainTestSplit,\n",
    "                            trainValidSplit = trainValidationSplit, resultDir = resultDirName )"
   ]
  },
  {
   "cell_type": "markdown",
   "metadata": {},
   "source": [
    "## Step5: Prepare the dataset\n",
    "Following section prepares the dataset and create six tensors namely `TrainX`, `TrainY`, `ValidationX`, `ValidationY`, `TestX`, `TestY`. Each of the variables with trailing `X` are the inputs with shape `[_, segmentLength, 3, 1 ]`and each of the variables with trailing `Y` are corresponding outputs with shape `[ _, NrClasses ]`. `NrClasses` for `WISDM` can be `4` or `6` and for `AST` is `5`."
   ]
  },
  {
   "cell_type": "code",
   "execution_count": 5,
   "metadata": {},
   "outputs": [
    {
     "name": "stdout",
     "output_type": "stream",
     "text": [
      "preparing data file from all the files in directory  datasets/ai_logged_data\n",
      "parsing data from  IoT01-MemsAnn_25_Dec_20_16h_18m_38s.csv\n",
      "parsing data from  IoT01-MemsAnn_25_Dec_20_17h_17m_53s.csv\n",
      "parsing data from  IoT01-MemsAnn_25_Dec_20_17h_19m_36s.csv\n",
      "parsing data from  IoT01-MemsAnn_26_Dec_20_12h_43m_31s.csv\n",
      "parsing data from  IoT01-MemsAnn_26_Dec_20_12h_45m_12s.csv\n",
      "parsing data from  IoT01-MemsAnn_25_Dec_20_16h_19m_38s.csv\n",
      "parsing data from  IoT01-MemsAnn_25_Dec_20_16h_19m_50s.csv\n",
      "parsing data from  IoT01-MemsAnn_26_Dec_20_12h_40m_35s.csv\n",
      "parsing data from  IoT01-MemsAnn_25_Dec_20_17h_18m_22s.csv\n",
      "parsing data from  IoT01-MemsAnn_25_Dec_20_17h_18m_42s.csv\n",
      "parsing data from  IoT01-MemsAnn_25_Dec_20_16h_19m_05s.csv\n",
      "parsing data from  IoT01-MemsAnn_26_Dec_20_12h_42m_58s.csv\n",
      "parsing data from  IoT01-MemsAnn_25_Dec_20_16h_19m_18s.csv\n",
      "parsing data from  IoT01-MemsAnn_26_Dec_20_12h_44m_27s.csv\n",
      "parsing data from  IoT01-MemsAnn_25_Dec_20_17h_17m_20s.csv\n",
      "parsing data from  IoT01-MemsAnn_25_Dec_20_16h_20m_11s.csv\n",
      "parsing data from  IoT01-MemsAnn_26_Dec_20_12h_38m_46s.csv\n",
      "parsing data from  IoT01-MemsAnn_25_Dec_20_17h_19m_15s.csv\n",
      "parsing data from  IoT01-MemsAnn_25_Dec_20_16h_21m_14s.csv\n",
      "parsing data from  IoT01-MemsAnn_25_Dec_20_16h_20m_38s.csv\n",
      "parsing data from  IoT01-MemsAnn_25_Dec_20_17h_16m_08s.csv\n",
      "Segmenting the AI logged Train data\n"
     ]
    },
    {
     "data": {
      "application/vnd.jupyter.widget-view+json": {
       "model_id": "6e63422a7a844578939691929196d7b6",
       "version_major": 2,
       "version_minor": 0
      },
      "text/plain": [
       "HBox(children=(HTML(value='Segments built '), FloatProgress(value=0.0, max=368.0), HTML(value='')))"
      ]
     },
     "metadata": {},
     "output_type": "display_data"
    },
    {
     "name": "stdout",
     "output_type": "stream",
     "text": [
      "\n",
      "Segmenting the AI logged Test data\n"
     ]
    },
    {
     "data": {
      "application/vnd.jupyter.widget-view+json": {
       "model_id": "ade265c484b04dc7bfff8198d8f201de",
       "version_major": 2,
       "version_minor": 0
      },
      "text/plain": [
       "HBox(children=(HTML(value='Segments built '), FloatProgress(value=0.0, max=158.0), HTML(value='')))"
      ]
     },
     "metadata": {},
     "output_type": "display_data"
    },
    {
     "name": "stdout",
     "output_type": "stream",
     "text": [
      "\n",
      "Segmentation finished!\n"
     ]
    }
   ],
   "source": [
    "#TrainX, TrainY, ValidationX, ValidationY, TestX, TestY = myDataHelper.prepare_data()\n",
    "TrainX, TrainY, ValidationX, ValidationY, TestX, TestY = myDataHelper.prepare_self_logged_data()"
   ]
  },
  {
   "cell_type": "markdown",
   "metadata": {},
   "source": [
    "## Step6: Create a `ANNModelHandler` object\n",
    "The script in the following section creates a `ANNModelHandler` object to create, train and validate the <u>A</u>rtificial <u>N</u>eural <u>N</u>etwork (ANN) using the variables created in **Step2**."
   ]
  },
  {
   "cell_type": "code",
   "execution_count": 6,
   "metadata": {},
   "outputs": [],
   "source": [
    "myHarHandler = ANNModelHandler( modelName = modelName, classes = myDataHelper.classes, resultDir = resultDirName,\n",
    "                              inputShape = TrainX.shape, outputShape = TrainY.shape, learningRate = learningRate,\n",
    "                              decayRate = decay, nEpochs = nEpochs, batchSize = batchSize,\n",
    "                              modelFileName = 'har_' + modelName, verbosity = verbosity )"
   ]
  },
  {
   "cell_type": "markdown",
   "metadata": {},
   "source": [
    "## Step6: Create a ANN model\n",
    "Following script creates the ANN and prints its summary to show the architecture and nr of parameters for ANN."
   ]
  },
  {
   "cell_type": "code",
   "execution_count": 7,
   "metadata": {},
   "outputs": [
    {
     "name": "stdout",
     "output_type": "stream",
     "text": [
      "Model: \"sequential\"\n",
      "_________________________________________________________________\n",
      "Layer (type)                 Output Shape              Param #   \n",
      "=================================================================\n",
      "conv2d (Conv2D)              (None, 89, 3, 24)         120       \n",
      "_________________________________________________________________\n",
      "conv2d_1 (Conv2D)            (None, 78, 3, 48)         13872     \n",
      "_________________________________________________________________\n",
      "max_pooling2d (MaxPooling2D) (None, 26, 3, 48)         0         \n",
      "_________________________________________________________________\n",
      "flatten (Flatten)            (None, 3744)              0         \n",
      "_________________________________________________________________\n",
      "dense (Dense)                (None, 32)                119840    \n",
      "_________________________________________________________________\n",
      "dense_1 (Dense)              (None, 24)                792       \n",
      "_________________________________________________________________\n",
      "dropout (Dropout)            (None, 24)                0         \n",
      "_________________________________________________________________\n",
      "dense_2 (Dense)              (None, 2)                 50        \n",
      "=================================================================\n",
      "Total params: 134,674\n",
      "Trainable params: 134,674\n",
      "Non-trainable params: 0\n",
      "_________________________________________________________________\n"
     ]
    }
   ],
   "source": [
    "harModel = myHarHandler.build_model()\n",
    "harModel.summary()"
   ]
  },
  {
   "cell_type": "markdown",
   "metadata": {},
   "source": [
    "## Step7: Create a Checkpoint for ANN training\n",
    "The following script creates a check point for the training process of ANN to save the neural network as `h5` file. The settings are used in a way that the validation accuracy `val_acc` is maximized."
   ]
  },
  {
   "cell_type": "code",
   "execution_count": 8,
   "metadata": {},
   "outputs": [],
   "source": [
    "harModelCheckPoint = ModelCheckpoint( filepath = join(resultDirName, 'har_' + modelName + '.h5'),\n",
    "                                     monitor = 'val_acc', verbose = 0, save_best_only = True, mode = 'max' )"
   ]
  },
  {
   "cell_type": "markdown",
   "metadata": {},
   "source": [
    "## Step7 : Train the created neural network\n",
    "The following script trains the created neural network with the provided checkpoint and created datasets."
   ]
  },
  {
   "cell_type": "code",
   "execution_count": 9,
   "metadata": {
    "tags": [
     "outputPrepend"
    ]
   },
   "outputs": [
    {
     "name": "stdout",
     "output_type": "stream",
     "text": [
      "Epoch 1/200\n",
      "4/4 [==============================] - 1s 182ms/step - loss: 23.9257 - acc: 0.4369 - val_loss: 1.3387 - val_acc: 0.4706\n",
      "Epoch 2/200\n",
      "4/4 [==============================] - 0s 52ms/step - loss: 10.6316 - acc: 0.4152 - val_loss: 1.9955 - val_acc: 0.4191\n",
      "Epoch 3/200\n",
      "4/4 [==============================] - 0s 40ms/step - loss: 6.0119 - acc: 0.3253 - val_loss: 2.3694 - val_acc: 0.4191\n",
      "Epoch 4/200\n",
      "4/4 [==============================] - 0s 39ms/step - loss: 7.9873 - acc: 0.3810 - val_loss: 2.5208 - val_acc: 0.4338\n",
      "Epoch 5/200\n",
      "4/4 [==============================] - 0s 38ms/step - loss: 8.8963 - acc: 0.4242 - val_loss: 2.5993 - val_acc: 0.4559\n",
      "Epoch 6/200\n",
      "4/4 [==============================] - 0s 41ms/step - loss: 11.3986 - acc: 0.4013 - val_loss: 2.5795 - val_acc: 0.4706\n",
      "Epoch 7/200\n",
      "4/4 [==============================] - 0s 40ms/step - loss: 4.8142 - acc: 0.4454 - val_loss: 2.5072 - val_acc: 0.4779\n",
      "Epoch 8/200\n",
      "4/4 [==============================] - 0s 41ms/step - loss: 3.4467 - acc: 0.4577 - val_loss: 2.3632 - val_acc: 0.5000\n",
      "Epoch 9/200\n",
      "4/4 [==============================] - 0s 39ms/step - loss: 12.7936 - acc: 0.4806 - val_loss: 2.1601 - val_acc: 0.5368\n",
      "Epoch 10/200\n",
      "4/4 [==============================] - 0s 36ms/step - loss: 9.4362 - acc: 0.5177 - val_loss: 1.9933 - val_acc: 0.5441\n",
      "Epoch 11/200\n",
      "4/4 [==============================] - 0s 38ms/step - loss: 1.9166 - acc: 0.5229 - val_loss: 1.8825 - val_acc: 0.5882\n",
      "Epoch 12/200\n",
      "4/4 [==============================] - 0s 38ms/step - loss: 1.6946 - acc: 0.5708 - val_loss: 1.8354 - val_acc: 0.6397\n",
      "Epoch 13/200\n",
      "4/4 [==============================] - 0s 36ms/step - loss: 2.0773 - acc: 0.5687 - val_loss: 1.7967 - val_acc: 0.6544\n",
      "Epoch 14/200\n",
      "4/4 [==============================] - 0s 40ms/step - loss: 1.8703 - acc: 0.6124 - val_loss: 1.7129 - val_acc: 0.6691\n",
      "Epoch 15/200\n",
      "4/4 [==============================] - 0s 36ms/step - loss: 7.2061 - acc: 0.5588 - val_loss: 1.8345 - val_acc: 0.6765\n",
      "Epoch 16/200\n",
      "4/4 [==============================] - 0s 37ms/step - loss: 2.2253 - acc: 0.6110 - val_loss: 2.0421 - val_acc: 0.6471\n",
      "Epoch 17/200\n",
      "4/4 [==============================] - 0s 37ms/step - loss: 3.1676 - acc: 0.6240 - val_loss: 2.1524 - val_acc: 0.6471\n",
      "Epoch 18/200\n",
      "4/4 [==============================] - 0s 40ms/step - loss: 1.1341 - acc: 0.6125 - val_loss: 2.1825 - val_acc: 0.6544\n",
      "Epoch 19/200\n",
      "4/4 [==============================] - 0s 38ms/step - loss: 2.2506 - acc: 0.6353 - val_loss: 2.1246 - val_acc: 0.6838\n",
      "Epoch 20/200\n",
      "4/4 [==============================] - 0s 39ms/step - loss: 2.2449 - acc: 0.6696 - val_loss: 2.0300 - val_acc: 0.7059\n",
      "Epoch 21/200\n",
      "4/4 [==============================] - 0s 38ms/step - loss: 2.4398 - acc: 0.6823 - val_loss: 1.9266 - val_acc: 0.7279\n",
      "Epoch 22/200\n",
      "4/4 [==============================] - 0s 36ms/step - loss: 3.9667 - acc: 0.7522 - val_loss: 1.9132 - val_acc: 0.7353\n",
      "Epoch 23/200\n",
      "4/4 [==============================] - 0s 37ms/step - loss: 1.5881 - acc: 0.6715 - val_loss: 1.8889 - val_acc: 0.7353\n",
      "Epoch 24/200\n",
      "4/4 [==============================] - 0s 40ms/step - loss: 1.5881 - acc: 0.7180 - val_loss: 1.8321 - val_acc: 0.7574\n",
      "Epoch 25/200\n",
      "4/4 [==============================] - 0s 40ms/step - loss: 1.2175 - acc: 0.7492 - val_loss: 1.7645 - val_acc: 0.7721\n",
      "Epoch 26/200\n",
      "4/4 [==============================] - 0s 48ms/step - loss: 1.8365 - acc: 0.7653 - val_loss: 1.7453 - val_acc: 0.7794\n",
      "Epoch 27/200\n",
      "4/4 [==============================] - 0s 41ms/step - loss: 1.0312 - acc: 0.7995 - val_loss: 1.7272 - val_acc: 0.7868\n",
      "Epoch 28/200\n",
      "4/4 [==============================] - 0s 36ms/step - loss: 1.4820 - acc: 0.7879 - val_loss: 1.6928 - val_acc: 0.7941\n",
      "Epoch 29/200\n",
      "4/4 [==============================] - 0s 49ms/step - loss: 1.5353 - acc: 0.7534 - val_loss: 1.6895 - val_acc: 0.8015\n",
      "Epoch 30/200\n",
      "4/4 [==============================] - 0s 40ms/step - loss: 1.2612 - acc: 0.7634 - val_loss: 1.7207 - val_acc: 0.8015\n",
      "Epoch 31/200\n",
      "4/4 [==============================] - 0s 43ms/step - loss: 1.0551 - acc: 0.7773 - val_loss: 1.7222 - val_acc: 0.8015\n",
      "Epoch 32/200\n",
      "4/4 [==============================] - 0s 44ms/step - loss: 1.2019 - acc: 0.8106 - val_loss: 1.6716 - val_acc: 0.8088\n",
      "Epoch 33/200\n",
      "4/4 [==============================] - 0s 39ms/step - loss: 1.0921 - acc: 0.7886 - val_loss: 1.6203 - val_acc: 0.8088\n",
      "Epoch 34/200\n",
      "4/4 [==============================] - 0s 40ms/step - loss: 1.0780 - acc: 0.7787 - val_loss: 1.5569 - val_acc: 0.8088\n",
      "Epoch 35/200\n",
      "4/4 [==============================] - 0s 38ms/step - loss: 1.2078 - acc: 0.8243 - val_loss: 1.4801 - val_acc: 0.8162\n",
      "Epoch 36/200\n",
      "4/4 [==============================] - 0s 38ms/step - loss: 0.9458 - acc: 0.8120 - val_loss: 1.4574 - val_acc: 0.8162\n",
      "Epoch 37/200\n",
      "4/4 [==============================] - 0s 37ms/step - loss: 1.1942 - acc: 0.8228 - val_loss: 1.4285 - val_acc: 0.8162\n",
      "Epoch 38/200\n",
      "4/4 [==============================] - 0s 40ms/step - loss: 0.9145 - acc: 0.8460 - val_loss: 1.4039 - val_acc: 0.8382\n",
      "Epoch 39/200\n",
      "4/4 [==============================] - 0s 39ms/step - loss: 0.8714 - acc: 0.8011 - val_loss: 1.3856 - val_acc: 0.8529\n",
      "Epoch 40/200\n",
      "4/4 [==============================] - 0s 38ms/step - loss: 1.3197 - acc: 0.8025 - val_loss: 1.3710 - val_acc: 0.8529\n",
      "Epoch 41/200\n",
      "4/4 [==============================] - 0s 39ms/step - loss: 0.9691 - acc: 0.8203 - val_loss: 1.3285 - val_acc: 0.8529\n",
      "Epoch 42/200\n",
      "4/4 [==============================] - 0s 47ms/step - loss: 1.0153 - acc: 0.8130 - val_loss: 1.3022 - val_acc: 0.8529\n",
      "Epoch 43/200\n",
      "4/4 [==============================] - 0s 39ms/step - loss: 1.5202 - acc: 0.8387 - val_loss: 1.2646 - val_acc: 0.8676\n",
      "Epoch 44/200\n",
      "4/4 [==============================] - 0s 37ms/step - loss: 0.9368 - acc: 0.8495 - val_loss: 1.2370 - val_acc: 0.8824\n",
      "Epoch 45/200\n",
      "4/4 [==============================] - 0s 39ms/step - loss: 1.3060 - acc: 0.8333 - val_loss: 1.2886 - val_acc: 0.8676\n",
      "Epoch 46/200\n",
      "4/4 [==============================] - 0s 40ms/step - loss: 0.7900 - acc: 0.8501 - val_loss: 1.3197 - val_acc: 0.8750\n",
      "Epoch 47/200\n",
      "4/4 [==============================] - 0s 38ms/step - loss: 0.9891 - acc: 0.8746 - val_loss: 1.3404 - val_acc: 0.8750\n",
      "Epoch 48/200\n",
      "4/4 [==============================] - 0s 44ms/step - loss: 0.9372 - acc: 0.8776 - val_loss: 1.3257 - val_acc: 0.8750\n",
      "Epoch 49/200\n",
      "4/4 [==============================] - 0s 40ms/step - loss: 1.1144 - acc: 0.8481 - val_loss: 1.2932 - val_acc: 0.8971\n",
      "Epoch 50/200\n",
      "4/4 [==============================] - 0s 49ms/step - loss: 0.7313 - acc: 0.8347 - val_loss: 1.2552 - val_acc: 0.8971\n",
      "Epoch 51/200\n",
      "4/4 [==============================] - 0s 40ms/step - loss: 1.3699 - acc: 0.8672 - val_loss: 1.1985 - val_acc: 0.8897\n",
      "Epoch 52/200\n",
      "4/4 [==============================] - 0s 37ms/step - loss: 1.1152 - acc: 0.8883 - val_loss: 1.2588 - val_acc: 0.8971\n",
      "Epoch 53/200\n",
      "4/4 [==============================] - 0s 37ms/step - loss: 1.1050 - acc: 0.8734 - val_loss: 1.2963 - val_acc: 0.8824\n",
      "Epoch 54/200\n",
      "4/4 [==============================] - 0s 38ms/step - loss: 1.0074 - acc: 0.8468 - val_loss: 1.3116 - val_acc: 0.8750\n",
      "Epoch 55/200\n",
      "4/4 [==============================] - 0s 43ms/step - loss: 0.8469 - acc: 0.8694 - val_loss: 1.2788 - val_acc: 0.8824\n",
      "Epoch 56/200\n",
      "4/4 [==============================] - 0s 38ms/step - loss: 0.6978 - acc: 0.8822 - val_loss: 1.2308 - val_acc: 0.8897\n",
      "Epoch 57/200\n",
      "4/4 [==============================] - 0s 39ms/step - loss: 0.9928 - acc: 0.8512 - val_loss: 1.2150 - val_acc: 0.8824\n",
      "Epoch 58/200\n",
      "4/4 [==============================] - 0s 40ms/step - loss: 0.7900 - acc: 0.8691 - val_loss: 1.1692 - val_acc: 0.8824\n",
      "Epoch 59/200\n",
      "4/4 [==============================] - 0s 40ms/step - loss: 0.7566 - acc: 0.8698 - val_loss: 1.1069 - val_acc: 0.8897\n",
      "Epoch 60/200\n",
      "4/4 [==============================] - 0s 39ms/step - loss: 0.8848 - acc: 0.9020 - val_loss: 1.0763 - val_acc: 0.8971\n",
      "Epoch 61/200\n",
      "4/4 [==============================] - 0s 39ms/step - loss: 1.3069 - acc: 0.8736 - val_loss: 1.0633 - val_acc: 0.8971\n",
      "Epoch 62/200\n",
      "4/4 [==============================] - 0s 45ms/step - loss: 0.9267 - acc: 0.8848 - val_loss: 1.1215 - val_acc: 0.8897\n",
      "Epoch 63/200\n"
     ]
    },
    {
     "name": "stdout",
     "output_type": "stream",
     "text": [
      "4/4 [==============================] - 0s 39ms/step - loss: 0.6881 - acc: 0.8670 - val_loss: 1.1840 - val_acc: 0.8824\n",
      "Epoch 64/200\n",
      "4/4 [==============================] - 0s 40ms/step - loss: 0.7371 - acc: 0.8677 - val_loss: 1.1986 - val_acc: 0.8897\n",
      "Epoch 65/200\n",
      "4/4 [==============================] - 0s 39ms/step - loss: 0.4911 - acc: 0.8979 - val_loss: 1.2116 - val_acc: 0.8824\n",
      "Epoch 66/200\n",
      "4/4 [==============================] - 0s 36ms/step - loss: 0.5829 - acc: 0.9036 - val_loss: 1.2091 - val_acc: 0.8824\n",
      "Epoch 67/200\n",
      "4/4 [==============================] - 0s 37ms/step - loss: 0.5642 - acc: 0.9298 - val_loss: 1.2043 - val_acc: 0.8897\n",
      "Epoch 68/200\n",
      "4/4 [==============================] - 0s 40ms/step - loss: 0.5088 - acc: 0.8935 - val_loss: 1.1780 - val_acc: 0.8897\n",
      "Epoch 69/200\n",
      "4/4 [==============================] - 0s 40ms/step - loss: 0.7036 - acc: 0.8942 - val_loss: 1.1679 - val_acc: 0.8897\n",
      "Epoch 70/200\n",
      "4/4 [==============================] - 0s 38ms/step - loss: 0.5806 - acc: 0.8987 - val_loss: 1.1757 - val_acc: 0.8897\n",
      "Epoch 71/200\n",
      "4/4 [==============================] - 0s 39ms/step - loss: 0.5524 - acc: 0.9185 - val_loss: 1.1911 - val_acc: 0.8897\n",
      "Epoch 72/200\n",
      "4/4 [==============================] - 0s 39ms/step - loss: 0.4091 - acc: 0.9043 - val_loss: 1.2058 - val_acc: 0.8897\n",
      "Epoch 73/200\n",
      "4/4 [==============================] - 0s 38ms/step - loss: 0.8900 - acc: 0.9023 - val_loss: 1.1643 - val_acc: 0.8971\n",
      "Epoch 74/200\n",
      "4/4 [==============================] - 0s 39ms/step - loss: 0.4433 - acc: 0.9247 - val_loss: 1.1298 - val_acc: 0.8971\n",
      "Epoch 75/200\n",
      "4/4 [==============================] - 0s 40ms/step - loss: 0.4862 - acc: 0.9195 - val_loss: 1.0772 - val_acc: 0.8897\n",
      "Epoch 76/200\n",
      "4/4 [==============================] - 0s 39ms/step - loss: 0.4481 - acc: 0.9379 - val_loss: 1.0380 - val_acc: 0.8971\n",
      "Epoch 77/200\n",
      "4/4 [==============================] - 0s 37ms/step - loss: 0.4411 - acc: 0.9207 - val_loss: 1.0226 - val_acc: 0.9044\n",
      "Epoch 78/200\n",
      "4/4 [==============================] - 0s 41ms/step - loss: 0.5445 - acc: 0.8989 - val_loss: 1.0243 - val_acc: 0.9044\n",
      "Epoch 79/200\n",
      "4/4 [==============================] - 0s 38ms/step - loss: 0.4388 - acc: 0.9268 - val_loss: 1.0508 - val_acc: 0.8971\n",
      "Epoch 80/200\n",
      "4/4 [==============================] - 0s 39ms/step - loss: 0.6418 - acc: 0.9181 - val_loss: 1.0663 - val_acc: 0.8971\n",
      "Epoch 81/200\n",
      "4/4 [==============================] - 0s 38ms/step - loss: 0.3393 - acc: 0.9634 - val_loss: 1.0618 - val_acc: 0.8971\n",
      "Epoch 82/200\n",
      "4/4 [==============================] - 0s 41ms/step - loss: 0.6157 - acc: 0.9122 - val_loss: 1.0771 - val_acc: 0.8971\n",
      "Epoch 83/200\n",
      "4/4 [==============================] - 0s 39ms/step - loss: 0.4786 - acc: 0.9284 - val_loss: 1.1392 - val_acc: 0.9044\n",
      "Epoch 84/200\n",
      "4/4 [==============================] - 0s 37ms/step - loss: 0.7769 - acc: 0.9043 - val_loss: 1.1424 - val_acc: 0.9044\n",
      "Epoch 85/200\n",
      "4/4 [==============================] - 0s 40ms/step - loss: 0.5827 - acc: 0.9364 - val_loss: 1.1662 - val_acc: 0.8971\n",
      "Epoch 86/200\n",
      "4/4 [==============================] - 0s 39ms/step - loss: 0.4743 - acc: 0.9259 - val_loss: 1.1987 - val_acc: 0.8971\n",
      "Epoch 87/200\n",
      "4/4 [==============================] - 0s 38ms/step - loss: 0.7231 - acc: 0.9188 - val_loss: 1.2405 - val_acc: 0.8971\n",
      "Epoch 88/200\n",
      "4/4 [==============================] - 0s 37ms/step - loss: 0.5377 - acc: 0.9270 - val_loss: 1.2116 - val_acc: 0.8971\n",
      "Epoch 89/200\n",
      "4/4 [==============================] - 0s 38ms/step - loss: 0.5984 - acc: 0.9266 - val_loss: 1.1596 - val_acc: 0.8971\n",
      "Epoch 90/200\n",
      "4/4 [==============================] - 0s 39ms/step - loss: 0.3502 - acc: 0.9416 - val_loss: 1.1240 - val_acc: 0.9044\n",
      "Epoch 91/200\n",
      "4/4 [==============================] - 0s 39ms/step - loss: 1.1114 - acc: 0.9471 - val_loss: 1.0424 - val_acc: 0.9118\n",
      "Epoch 92/200\n",
      "4/4 [==============================] - 0s 39ms/step - loss: 0.3006 - acc: 0.9731 - val_loss: 1.0246 - val_acc: 0.9118\n",
      "Epoch 93/200\n",
      "4/4 [==============================] - 0s 38ms/step - loss: 0.6256 - acc: 0.9261 - val_loss: 1.0250 - val_acc: 0.9118\n",
      "Epoch 94/200\n",
      "4/4 [==============================] - 0s 38ms/step - loss: 0.2970 - acc: 0.9572 - val_loss: 1.0330 - val_acc: 0.9118\n",
      "Epoch 95/200\n",
      "4/4 [==============================] - 0s 39ms/step - loss: 0.3254 - acc: 0.9533 - val_loss: 1.0460 - val_acc: 0.9118\n",
      "Epoch 96/200\n",
      "4/4 [==============================] - 0s 44ms/step - loss: 0.8220 - acc: 0.9468 - val_loss: 1.0947 - val_acc: 0.9044\n",
      "Epoch 97/200\n",
      "4/4 [==============================] - 0s 40ms/step - loss: 0.5629 - acc: 0.9334 - val_loss: 1.2441 - val_acc: 0.9044\n",
      "Epoch 98/200\n",
      "4/4 [==============================] - 0s 38ms/step - loss: 0.3809 - acc: 0.9501 - val_loss: 1.4472 - val_acc: 0.8824\n",
      "Epoch 99/200\n",
      "4/4 [==============================] - 0s 41ms/step - loss: 0.3363 - acc: 0.9448 - val_loss: 1.6016 - val_acc: 0.8750\n",
      "Epoch 100/200\n",
      "4/4 [==============================] - 0s 38ms/step - loss: 0.4081 - acc: 0.9060 - val_loss: 1.5014 - val_acc: 0.8750\n",
      "Epoch 101/200\n",
      "4/4 [==============================] - 0s 37ms/step - loss: 0.3660 - acc: 0.9058 - val_loss: 1.3991 - val_acc: 0.8824\n",
      "Epoch 102/200\n",
      "4/4 [==============================] - 0s 39ms/step - loss: 0.5259 - acc: 0.9509 - val_loss: 1.2230 - val_acc: 0.8971\n",
      "Epoch 103/200\n",
      "4/4 [==============================] - 0s 40ms/step - loss: 0.3049 - acc: 0.9431 - val_loss: 1.1647 - val_acc: 0.9044\n",
      "Epoch 104/200\n",
      "4/4 [==============================] - 0s 38ms/step - loss: 0.3368 - acc: 0.9230 - val_loss: 1.1546 - val_acc: 0.9044\n",
      "Epoch 105/200\n",
      "4/4 [==============================] - 0s 38ms/step - loss: 0.2706 - acc: 0.9632 - val_loss: 1.1503 - val_acc: 0.9044\n",
      "Epoch 106/200\n",
      "4/4 [==============================] - 0s 41ms/step - loss: 0.3334 - acc: 0.9582 - val_loss: 1.1540 - val_acc: 0.9044\n",
      "Epoch 107/200\n",
      "4/4 [==============================] - 0s 39ms/step - loss: 0.3871 - acc: 0.9400 - val_loss: 1.1564 - val_acc: 0.9044\n",
      "Epoch 108/200\n",
      "4/4 [==============================] - 0s 38ms/step - loss: 0.3036 - acc: 0.9599 - val_loss: 1.1638 - val_acc: 0.9044\n",
      "Epoch 109/200\n",
      "4/4 [==============================] - 0s 38ms/step - loss: 0.3178 - acc: 0.9429 - val_loss: 1.1724 - val_acc: 0.9044\n",
      "Epoch 110/200\n",
      "4/4 [==============================] - 0s 48ms/step - loss: 0.3868 - acc: 0.9272 - val_loss: 1.1879 - val_acc: 0.9044\n",
      "Epoch 111/200\n",
      "4/4 [==============================] - 0s 38ms/step - loss: 0.2531 - acc: 0.9467 - val_loss: 1.2057 - val_acc: 0.9044\n",
      "Epoch 112/200\n",
      "4/4 [==============================] - 0s 38ms/step - loss: 0.4092 - acc: 0.9398 - val_loss: 1.2047 - val_acc: 0.9044\n",
      "Epoch 113/200\n",
      "4/4 [==============================] - 0s 45ms/step - loss: 0.5142 - acc: 0.9091 - val_loss: 1.1669 - val_acc: 0.9044\n",
      "Epoch 114/200\n",
      "4/4 [==============================] - 0s 39ms/step - loss: 0.2672 - acc: 0.9403 - val_loss: 1.1466 - val_acc: 0.9118\n",
      "Epoch 115/200\n",
      "4/4 [==============================] - 0s 41ms/step - loss: 0.5219 - acc: 0.9365 - val_loss: 1.1442 - val_acc: 0.9044\n",
      "Epoch 116/200\n",
      "4/4 [==============================] - 0s 38ms/step - loss: 0.2425 - acc: 0.9549 - val_loss: 1.1577 - val_acc: 0.9118\n",
      "Epoch 117/200\n",
      "4/4 [==============================] - 0s 41ms/step - loss: 0.3935 - acc: 0.9414 - val_loss: 1.1793 - val_acc: 0.9118\n",
      "Epoch 118/200\n",
      "4/4 [==============================] - 0s 41ms/step - loss: 0.2322 - acc: 0.9688 - val_loss: 1.2006 - val_acc: 0.9118\n",
      "Epoch 119/200\n",
      "4/4 [==============================] - 0s 41ms/step - loss: 0.2374 - acc: 0.9771 - val_loss: 1.2153 - val_acc: 0.9118\n",
      "Epoch 120/200\n",
      "4/4 [==============================] - 0s 43ms/step - loss: 0.2272 - acc: 0.9664 - val_loss: 1.2319 - val_acc: 0.9191\n",
      "Epoch 121/200\n",
      "4/4 [==============================] - 0s 38ms/step - loss: 0.2255 - acc: 0.9518 - val_loss: 1.2439 - val_acc: 0.9191\n",
      "Epoch 122/200\n",
      "4/4 [==============================] - 0s 40ms/step - loss: 0.9969 - acc: 0.9546 - val_loss: 1.2275 - val_acc: 0.9118\n",
      "Epoch 123/200\n",
      "4/4 [==============================] - 0s 43ms/step - loss: 0.2352 - acc: 0.9598 - val_loss: 1.2155 - val_acc: 0.9118\n",
      "Epoch 124/200\n",
      "4/4 [==============================] - 0s 38ms/step - loss: 0.2104 - acc: 0.9589 - val_loss: 1.2133 - val_acc: 0.9118\n",
      "Epoch 125/200\n"
     ]
    },
    {
     "name": "stdout",
     "output_type": "stream",
     "text": [
      "4/4 [==============================] - 0s 39ms/step - loss: 0.3061 - acc: 0.9514 - val_loss: 1.2215 - val_acc: 0.9118\n",
      "Epoch 126/200\n",
      "4/4 [==============================] - 0s 39ms/step - loss: 0.3241 - acc: 0.9507 - val_loss: 1.2137 - val_acc: 0.9118\n",
      "Epoch 127/200\n",
      "4/4 [==============================] - 0s 40ms/step - loss: 0.2570 - acc: 0.9611 - val_loss: 1.2134 - val_acc: 0.9118\n",
      "Epoch 128/200\n",
      "4/4 [==============================] - 0s 37ms/step - loss: 0.1741 - acc: 0.9886 - val_loss: 1.2144 - val_acc: 0.9118\n",
      "Epoch 129/200\n",
      "4/4 [==============================] - 0s 38ms/step - loss: 0.2992 - acc: 0.9337 - val_loss: 1.2235 - val_acc: 0.9118\n",
      "Epoch 130/200\n",
      "4/4 [==============================] - 0s 39ms/step - loss: 0.3060 - acc: 0.9500 - val_loss: 1.2365 - val_acc: 0.9118\n",
      "Epoch 131/200\n",
      "4/4 [==============================] - 0s 38ms/step - loss: 0.4236 - acc: 0.9242 - val_loss: 1.2594 - val_acc: 0.9191\n",
      "Epoch 132/200\n",
      "4/4 [==============================] - 0s 39ms/step - loss: 0.2188 - acc: 0.9710 - val_loss: 1.2799 - val_acc: 0.9191\n",
      "Epoch 133/200\n",
      "4/4 [==============================] - 0s 36ms/step - loss: 0.1883 - acc: 0.9665 - val_loss: 1.3011 - val_acc: 0.9191\n",
      "Epoch 134/200\n",
      "4/4 [==============================] - 0s 42ms/step - loss: 0.2029 - acc: 0.9561 - val_loss: 1.3124 - val_acc: 0.9191\n",
      "Epoch 135/200\n",
      "4/4 [==============================] - 0s 36ms/step - loss: 0.2174 - acc: 0.9556 - val_loss: 1.3233 - val_acc: 0.9191\n",
      "Epoch 136/200\n",
      "4/4 [==============================] - 0s 38ms/step - loss: 0.1797 - acc: 0.9625 - val_loss: 1.3330 - val_acc: 0.9191\n",
      "Epoch 137/200\n",
      "4/4 [==============================] - 0s 38ms/step - loss: 0.1726 - acc: 0.9717 - val_loss: 1.3327 - val_acc: 0.9191\n",
      "Epoch 138/200\n",
      "4/4 [==============================] - 0s 40ms/step - loss: 0.1934 - acc: 0.9541 - val_loss: 1.3292 - val_acc: 0.9191\n",
      "Epoch 139/200\n",
      "4/4 [==============================] - 0s 38ms/step - loss: 0.2071 - acc: 0.9728 - val_loss: 1.3282 - val_acc: 0.9191\n",
      "Epoch 140/200\n",
      "4/4 [==============================] - 0s 35ms/step - loss: 0.2208 - acc: 0.9625 - val_loss: 1.3310 - val_acc: 0.9191\n",
      "Epoch 141/200\n",
      "4/4 [==============================] - 0s 43ms/step - loss: 0.2126 - acc: 0.9719 - val_loss: 1.3374 - val_acc: 0.9191\n",
      "Epoch 142/200\n",
      "4/4 [==============================] - 0s 37ms/step - loss: 0.2091 - acc: 0.9670 - val_loss: 1.3418 - val_acc: 0.9191\n",
      "Epoch 143/200\n",
      "4/4 [==============================] - 0s 38ms/step - loss: 0.1993 - acc: 0.9549 - val_loss: 1.3428 - val_acc: 0.9191\n",
      "Epoch 144/200\n",
      "4/4 [==============================] - 0s 39ms/step - loss: 0.2066 - acc: 0.9707 - val_loss: 1.3412 - val_acc: 0.9191\n",
      "Epoch 145/200\n",
      "4/4 [==============================] - 0s 40ms/step - loss: 0.1942 - acc: 0.9743 - val_loss: 1.3400 - val_acc: 0.9191\n",
      "Epoch 146/200\n",
      "4/4 [==============================] - 0s 38ms/step - loss: 0.1622 - acc: 0.9802 - val_loss: 1.3436 - val_acc: 0.9191\n",
      "Epoch 147/200\n",
      "4/4 [==============================] - 0s 42ms/step - loss: 0.1634 - acc: 0.9658 - val_loss: 1.3484 - val_acc: 0.9191\n",
      "Epoch 148/200\n",
      "4/4 [==============================] - 0s 44ms/step - loss: 0.2053 - acc: 0.9370 - val_loss: 1.3437 - val_acc: 0.9191\n",
      "Epoch 149/200\n",
      "4/4 [==============================] - 0s 37ms/step - loss: 0.1769 - acc: 0.9738 - val_loss: 1.3379 - val_acc: 0.9191\n",
      "Epoch 150/200\n",
      "4/4 [==============================] - 0s 37ms/step - loss: 0.2228 - acc: 0.9764 - val_loss: 1.3374 - val_acc: 0.9191\n",
      "Epoch 151/200\n",
      "4/4 [==============================] - 0s 41ms/step - loss: 0.2078 - acc: 0.9657 - val_loss: 1.3423 - val_acc: 0.9191\n",
      "Epoch 152/200\n",
      "4/4 [==============================] - 0s 39ms/step - loss: 0.1619 - acc: 0.9747 - val_loss: 1.3451 - val_acc: 0.9191\n",
      "Epoch 153/200\n",
      "4/4 [==============================] - 0s 37ms/step - loss: 0.1753 - acc: 0.9559 - val_loss: 1.3486 - val_acc: 0.9191\n",
      "Epoch 154/200\n",
      "4/4 [==============================] - 0s 37ms/step - loss: 0.1813 - acc: 0.9643 - val_loss: 1.3478 - val_acc: 0.9191\n",
      "Epoch 155/200\n",
      "4/4 [==============================] - 0s 43ms/step - loss: 0.1938 - acc: 0.9762 - val_loss: 1.3537 - val_acc: 0.9191\n",
      "Epoch 156/200\n",
      "4/4 [==============================] - 0s 39ms/step - loss: 0.1809 - acc: 0.9645 - val_loss: 1.3573 - val_acc: 0.9191\n",
      "Epoch 157/200\n",
      "4/4 [==============================] - 0s 38ms/step - loss: 0.2054 - acc: 0.9688 - val_loss: 1.3556 - val_acc: 0.9191\n",
      "Epoch 158/200\n",
      "4/4 [==============================] - 0s 39ms/step - loss: 0.1613 - acc: 0.9658 - val_loss: 1.3535 - val_acc: 0.9191\n",
      "Epoch 159/200\n",
      "4/4 [==============================] - 0s 39ms/step - loss: 0.3227 - acc: 0.9603 - val_loss: 1.3560 - val_acc: 0.9191\n",
      "Epoch 160/200\n",
      "4/4 [==============================] - 0s 39ms/step - loss: 0.1628 - acc: 0.9674 - val_loss: 1.3622 - val_acc: 0.9191\n",
      "Epoch 161/200\n",
      "4/4 [==============================] - 0s 38ms/step - loss: 0.1425 - acc: 0.9750 - val_loss: 1.3663 - val_acc: 0.9191\n",
      "Epoch 162/200\n",
      "4/4 [==============================] - 0s 44ms/step - loss: 0.1420 - acc: 0.9854 - val_loss: 1.3670 - val_acc: 0.9191\n",
      "Epoch 163/200\n",
      "4/4 [==============================] - 0s 38ms/step - loss: 0.1578 - acc: 0.9717 - val_loss: 1.3720 - val_acc: 0.9191\n",
      "Epoch 164/200\n",
      "4/4 [==============================] - 0s 37ms/step - loss: 0.1811 - acc: 0.9696 - val_loss: 1.3974 - val_acc: 0.9191\n",
      "Epoch 165/200\n",
      "4/4 [==============================] - 0s 44ms/step - loss: 0.1305 - acc: 0.9837 - val_loss: 1.4150 - val_acc: 0.9118\n",
      "Epoch 166/200\n",
      "4/4 [==============================] - 0s 38ms/step - loss: 0.1399 - acc: 0.9693 - val_loss: 1.4250 - val_acc: 0.9118\n",
      "Epoch 167/200\n",
      "4/4 [==============================] - 0s 39ms/step - loss: 0.1268 - acc: 0.9868 - val_loss: 1.4281 - val_acc: 0.9118\n",
      "Epoch 168/200\n",
      "4/4 [==============================] - 0s 39ms/step - loss: 0.1490 - acc: 0.9707 - val_loss: 1.4291 - val_acc: 0.9118\n",
      "Epoch 169/200\n",
      "4/4 [==============================] - 0s 42ms/step - loss: 0.1739 - acc: 0.9530 - val_loss: 1.4364 - val_acc: 0.9118\n",
      "Epoch 170/200\n",
      "4/4 [==============================] - 0s 39ms/step - loss: 0.1192 - acc: 0.9886 - val_loss: 1.4366 - val_acc: 0.9118\n",
      "Epoch 171/200\n",
      "4/4 [==============================] - 0s 38ms/step - loss: 0.1327 - acc: 0.9821 - val_loss: 1.4339 - val_acc: 0.9118\n",
      "Epoch 172/200\n",
      "4/4 [==============================] - 0s 41ms/step - loss: 0.1573 - acc: 0.9693 - val_loss: 1.4307 - val_acc: 0.9191\n",
      "Epoch 173/200\n",
      "4/4 [==============================] - 0s 38ms/step - loss: 0.1264 - acc: 0.9794 - val_loss: 1.4298 - val_acc: 0.9191\n",
      "Epoch 174/200\n",
      "4/4 [==============================] - 0s 37ms/step - loss: 0.1427 - acc: 0.9795 - val_loss: 1.4292 - val_acc: 0.9191\n",
      "Epoch 175/200\n",
      "4/4 [==============================] - 0s 40ms/step - loss: 0.3508 - acc: 0.9643 - val_loss: 1.3911 - val_acc: 0.9191\n",
      "Epoch 176/200\n",
      "4/4 [==============================] - 0s 43ms/step - loss: 0.1456 - acc: 0.9913 - val_loss: 1.3664 - val_acc: 0.9191\n",
      "Epoch 177/200\n",
      "4/4 [==============================] - 0s 36ms/step - loss: 0.1151 - acc: 0.9842 - val_loss: 1.3540 - val_acc: 0.9191\n",
      "Epoch 178/200\n",
      "4/4 [==============================] - 0s 41ms/step - loss: 0.2010 - acc: 0.9806 - val_loss: 1.3215 - val_acc: 0.9191\n",
      "Epoch 179/200\n",
      "4/4 [==============================] - 0s 40ms/step - loss: 0.1801 - acc: 0.9778 - val_loss: 1.3112 - val_acc: 0.9191\n",
      "Epoch 180/200\n",
      "4/4 [==============================] - 0s 38ms/step - loss: 0.1623 - acc: 0.9814 - val_loss: 1.3059 - val_acc: 0.9191\n",
      "Epoch 181/200\n",
      "4/4 [==============================] - 0s 39ms/step - loss: 0.1507 - acc: 0.9752 - val_loss: 1.3126 - val_acc: 0.9191\n",
      "Epoch 182/200\n",
      "4/4 [==============================] - 0s 46ms/step - loss: 0.2424 - acc: 0.9634 - val_loss: 1.3162 - val_acc: 0.9191\n",
      "Epoch 183/200\n",
      "4/4 [==============================] - 0s 39ms/step - loss: 0.1386 - acc: 0.9929 - val_loss: 1.3209 - val_acc: 0.9191\n",
      "Epoch 184/200\n",
      "4/4 [==============================] - 0s 38ms/step - loss: 0.1494 - acc: 0.9677 - val_loss: 1.3361 - val_acc: 0.9191\n",
      "Epoch 185/200\n",
      "4/4 [==============================] - 0s 38ms/step - loss: 0.1415 - acc: 0.9827 - val_loss: 1.3488 - val_acc: 0.9191\n",
      "Epoch 186/200\n",
      "4/4 [==============================] - 0s 40ms/step - loss: 0.1673 - acc: 0.9790 - val_loss: 1.3645 - val_acc: 0.9191\n",
      "Epoch 187/200\n"
     ]
    },
    {
     "name": "stdout",
     "output_type": "stream",
     "text": [
      "4/4 [==============================] - 0s 40ms/step - loss: 0.1642 - acc: 0.9759 - val_loss: 1.3759 - val_acc: 0.9191\n",
      "Epoch 188/200\n",
      "4/4 [==============================] - 0s 36ms/step - loss: 0.1081 - acc: 0.9882 - val_loss: 1.3833 - val_acc: 0.9191\n",
      "Epoch 189/200\n",
      "4/4 [==============================] - 0s 38ms/step - loss: 0.1274 - acc: 0.9762 - val_loss: 1.3880 - val_acc: 0.9191\n",
      "Epoch 190/200\n",
      "4/4 [==============================] - 0s 40ms/step - loss: 0.0967 - acc: 0.9939 - val_loss: 1.4009 - val_acc: 0.9191\n",
      "Epoch 191/200\n",
      "4/4 [==============================] - 0s 36ms/step - loss: 0.1029 - acc: 0.9945 - val_loss: 1.4145 - val_acc: 0.9191\n",
      "Epoch 192/200\n",
      "4/4 [==============================] - 0s 38ms/step - loss: 0.1133 - acc: 0.9766 - val_loss: 1.4214 - val_acc: 0.9191\n",
      "Epoch 193/200\n",
      "4/4 [==============================] - 0s 39ms/step - loss: 0.1043 - acc: 0.9762 - val_loss: 1.4285 - val_acc: 0.9191\n",
      "Epoch 194/200\n",
      "4/4 [==============================] - 0s 39ms/step - loss: 0.1236 - acc: 0.9877 - val_loss: 1.4366 - val_acc: 0.9191\n",
      "Epoch 195/200\n",
      "4/4 [==============================] - 0s 36ms/step - loss: 0.1330 - acc: 0.9546 - val_loss: 1.4459 - val_acc: 0.9191\n",
      "Epoch 196/200\n",
      "4/4 [==============================] - 0s 38ms/step - loss: 0.1044 - acc: 0.9957 - val_loss: 1.4500 - val_acc: 0.9191\n",
      "Epoch 197/200\n",
      "4/4 [==============================] - 0s 43ms/step - loss: 0.1403 - acc: 0.9851 - val_loss: 1.4517 - val_acc: 0.9191\n",
      "Epoch 198/200\n",
      "4/4 [==============================] - 0s 38ms/step - loss: 0.1031 - acc: 0.9835 - val_loss: 1.4516 - val_acc: 0.9191\n",
      "Epoch 199/200\n",
      "4/4 [==============================] - 0s 38ms/step - loss: 0.1475 - acc: 0.9749 - val_loss: 1.4171 - val_acc: 0.9191\n",
      "Epoch 200/200\n",
      "4/4 [==============================] - 0s 42ms/step - loss: 0.1057 - acc: 0.9839 - val_loss: 1.3987 - val_acc: 0.9191\n"
     ]
    },
    {
     "data": {
      "image/png": "[encoded data removed]",
      "text/plain": [
       "<Figure size 432x288 with 1 Axes>"
      ]
     },
     "metadata": {
      "needs_background": "light"
     },
     "output_type": "display_data"
    },
    {
     "data": {
      "image/png": "[encoded data removed]",
      "text/plain": [
       "<Figure size 432x288 with 1 Axes>"
      ]
     },
     "metadata": {
      "needs_background": "light"
     },
     "output_type": "display_data"
    }
   ],
   "source": [
    "harModel = myHarHandler.train_model( harModel, TrainX, TrainY, ValidationX, ValidationY, harModelCheckPoint )"
   ]
  },
  {
   "cell_type": "markdown",
   "metadata": {},
   "source": [
    "## Step8: Validating the trained neural network\n",
    "The following section validates the created network and creates a confusion matrix for the test dataset to have a detailed picture of the errors."
   ]
  },
  {
   "cell_type": "code",
   "execution_count": 10,
   "metadata": {},
   "outputs": [
    {
     "name": "stdout",
     "output_type": "stream",
     "text": [
      "3/3 [==============================] - 0s 5ms/step\n",
      "Accuracy for each class is given below.\n",
      "Gesture     : 100.0 %\n",
      "Stationary  : 70.83 %\n"
     ]
    },
    {
     "data": {
      "image/png": "[encoded data removed]",
      "text/plain": [
       "<Figure size 504x504 with 2 Axes>"
      ]
     },
     "metadata": {
      "needs_background": "light"
     },
     "output_type": "display_data"
    }
   ],
   "source": [
    "myHarHandler.make_confusion_matrix(  harModel, TestX, TestY )"
   ]
  },
  {
   "cell_type": "markdown",
   "metadata": {},
   "source": [
    "## Step9: Create an npz file for validation after conversion from CubeAI."
   ]
  },
  {
   "cell_type": "code",
   "execution_count": 11,
   "metadata": {},
   "outputs": [],
   "source": [
    "myDataHelper.dump_data_for_post_validation( TestX, TestY, nrSamplesPostValid )"
   ]
  }
 ],
 "metadata": {
  "kernelspec": {
   "display_name": "Python 3",
   "language": "python",
   "name": "python3"
  },
  "language_info": {
   "codemirror_mode": {
    "name": "ipython",
    "version": 3
   },
   "file_extension": ".py",
   "mimetype": "text/x-python",
   "name": "python",
   "nbconvert_exporter": "python",
   "pygments_lexer": "ipython3",
   "version": "3.8.5"
  },
  "varInspector": {
   "cols": {
    "lenName": 16,
    "lenType": 16,
    "lenVar": 40
   },
   "kernels_config": {
    "python": {
     "delete_cmd_postfix": "",
     "delete_cmd_prefix": "del ",
     "library": "var_list.py",
     "varRefreshCmd": "print(var_dic_list())"
    },
    "r": {
     "delete_cmd_postfix": ") ",
     "delete_cmd_prefix": "rm(",
     "library": "var_list.r",
     "varRefreshCmd": "cat(var_dic_list()) "
    }
   },
   "types_to_exclude": [
    "module",
    "function",
    "builtin_function_or_method",
    "instance",
    "_Feature"
   ],
   "window_display": false
  }
 },
 "nbformat": 4,
 "nbformat_minor": 2
}
