{
 "cells": [
  {
   "cell_type": "markdown",
   "metadata": {},
   "source": [
    "```python\n",
    "#!/usr/bin/env python\n",
    "# coding: utf-8 \n",
    "\n",
    "#   This software component is licensed by ST under BSD 3-Clause license,\n",
    "#   the \"License\"; You may not use this file except in compliance with the\n",
    "#   License. You may obtain a copy of the License at:\n",
    "#                        https://opensource.org/licenses/BSD-3-Clause\n",
    "  \n",
    "\n",
    "'''\n",
    "Training script of human activity recognition system (HAR), based on two different Convolutional Neural Network (CNN) architectures \n",
    "'''\n",
    "```"
   ]
  },
  {
   "cell_type": "markdown",
   "metadata": {},
   "source": [
    "# Step by Step HAR Training STM32CubeAI\n",
    "This notebook provides a step by step demonstration of a simple <u>H</u>uman <u>A</u>ctivity <u>R</u>ecognition system (HAR), based on a convolutional networks (CNN). This script provides a simple data preperation script through `DataHelper` class and let user to preprocess, split, and segment the dataset to bring it into the form which can be used for training and validation of the HAR CNN. It also has a `CNNHandler` class which builds, trains and validate a CNN for a given set of input and output tensors. The `CNNHandler` can create one of the two provided CNN architectures namely, **IGN** and **GMP**.\n",
    "\n",
    "All the implementations are done in Python using [Keras](https:keras.io/) with [Tensorflow](https://www.tensorflow.org/) as backend.\n",
    "\n",
    "For demonstration purposes this script uses two datasets created for HAR using accelerometer sensor. \n",
    "\n",
    "* WISDM, a public dataset provided by <u>WI</u>reless <u>S</u>ensing <u>D</u>ata <u>M</u>ining group. The details of the dataset are available [here](http://www.cis.fordham.edu/wisdm/dataset.php).\n",
    "\n",
    "* AST our own propritery dataset.\n",
    "\n",
    "**Note**: We are not providing any dataset in the function pack. The user can download WISDM dataset from [here](http://www.cis.fordham.edu/wisdm/dataset.php), while AST is a private dataset and is not provided.\n",
    "\n",
    "Following figure shows the detailed workflow of HAR.\n",
    "\n",
    "\n",
    "<p align=\"center\">\n",
    "<img width=\"760\" height=\"400\" src=\"workflow.png\">\n",
    "</p>\n",
    "\n",
    "Let us start the implementation now."
   ]
  },
  {
   "cell_type": "markdown",
   "metadata": {},
   "source": [
    "## Step1 : Import necessary dependencies\n",
    "Following section imports all the required dependencies. This also sets seeds for random number generators in Numpy and Tensorflow environments to make the results reproducibile."
   ]
  },
  {
   "cell_type": "code",
   "execution_count": 1,
   "metadata": {},
   "outputs": [],
   "source": [
    "import numpy as np\n",
    "np.random.seed(611)\n",
    "\n",
    "import argparse, os, logging, warnings\n",
    "from os.path import isfile, join\n",
    "from datetime import datetime\n",
    "\n",
    "# private libraries\n",
    "from PrepareDataset import DataHelper\n",
    "from HARNN import ANNModelHandler\n",
    "\n",
    "# for using callbacks to save the model during training and comparing the results at every epoch\n",
    "from keras.callbacks import ModelCheckpoint\n",
    "\n",
    "# disabling annoying warnings originating from Tensorflow\n",
    "logging.getLogger('tensorflow').disabled = True\n",
    "\n",
    "import tensorflow as tf\n",
    "tf.compat.v1.set_random_seed(611)\n",
    "\n",
    "# disabling annoying warnings originating from python\n",
    "warnings.simplefilter(\"ignore\")"
   ]
  },
  {
   "cell_type": "markdown",
   "metadata": {},
   "source": [
    "## Step2: Set environment variables\n",
    "Following section sets some user variables which will later be used for:\n",
    "\n",
    "* preparing the dataset.\n",
    "* preparing the neural networks.\n",
    "* training the neural networks.\n",
    "* validating the neural network."
   ]
  },
  {
   "cell_type": "code",
   "execution_count": 2,
   "metadata": {},
   "outputs": [],
   "source": [
    "# data variables\n",
    "dataset = 'WISDM'\n",
    "merge = True\n",
    "segmentLength = 120\n",
    "stepSize = 120\n",
    "dataDir = 'datasets/ai_logged_data'\n",
    "preprocessing = True\n",
    "\n",
    "# neural network variables\n",
    "modelName = 'IGN'\n",
    "\n",
    "# training variables\n",
    "trainTestSplit = 0.7\n",
    "trainValidationSplit = 0.6\n",
    "nEpochs = 250\n",
    "learningRate = 0.0001\n",
    "decay = 7e-6\n",
    "batchSize = 64\n",
    "verbosity = 1\n",
    "nrSamplesPostValid = 2"
   ]
  },
  {
   "cell_type": "markdown",
   "metadata": {},
   "source": [
    "## Step3: Result directory\n",
    "Each run can have different variables and to compare the results of different choices, such as different segment size for the window for data, different overlap settings etc, we need to save the results. Following section creates a result directory to save results for the current run. The name of the directory has following format. `Mmm_dd_yyyy_hh_mm_ss_dataset_model_seqLen_stepSize_epochs_results`, and example name for directory can be `Oct_24_2019_14_31_20_WISDM_IGN_24_16_20_results`, which shows the process was started at October 24, 2019, at 14:31:20, the dataset used was WISDM, with segment size = 24, segment step = 16, and Nr of epochs = 20."
   ]
  },
  {
   "cell_type": "code",
   "execution_count": 3,
   "metadata": {},
   "outputs": [],
   "source": [
    "# if not already exist create a parent directory for results.\n",
    "if not os.path.exists( './results/'):\n",
    "    os.mkdir( './results/' )\n",
    "resultDirName = 'results/{}/'.format(datetime.now().strftime( \"%Y_%b_%d_%H_%M_%S\" ) )\n",
    "os.mkdir( resultDirName )\n",
    "infoString = 'runTime : {}\\nDatabase : {}\\nNetwork : {}\\nSeqLength : {}\\nStepSize : {}\\nEpochs : {}\\n'.format( datetime.now().strftime(\"%Y-%b-%d at %H:%M:%S\"), dataset, modelName, segmentLength, stepSize, nEpochs )\n",
    "with open( resultDirName + 'info.txt', 'w' ) as text_file:\n",
    "    text_file.write( infoString )"
   ]
  },
  {
   "cell_type": "markdown",
   "metadata": {},
   "source": [
    "## Step4: Create a `DataHelper` object\n",
    "The script in the following section creates a `DataHelper` object to preprocess, segment and split the dataset as well as to create one-hot-code labeling for the outputs to make the data training and testing ready using the choices set by the user in **Step2**."
   ]
  },
  {
   "cell_type": "code",
   "execution_count": 4,
   "metadata": {},
   "outputs": [],
   "source": [
    "myDataHelper = DataHelper( dataset = dataset, loggedDataDir = dataDir, merge = merge,\n",
    "                            modelName = modelName, seqLength = segmentLength, seqStep = stepSize,\n",
    "                            preprocessing = preprocessing, trainTestSplit = trainTestSplit,\n",
    "                            trainValidSplit = trainValidationSplit, resultDir = resultDirName )"
   ]
  },
  {
   "cell_type": "markdown",
   "metadata": {},
   "source": [
    "## Step5: Prepare the dataset\n",
    "Following section prepares the dataset and create six tensors namely `TrainX`, `TrainY`, `ValidationX`, `ValidationY`, `TestX`, `TestY`. Each of the variables with trailing `X` are the inputs with shape `[_, segmentLength, 3, 1 ]`and each of the variables with trailing `Y` are corresponding outputs with shape `[ _, NrClasses ]`. `NrClasses` for `WISDM` can be `4` or `6` and for `AST` is `5`."
   ]
  },
  {
   "cell_type": "code",
   "execution_count": 5,
   "metadata": {},
   "outputs": [
    {
     "name": "stdout",
     "output_type": "stream",
     "text": [
      "preparing data file from all the files in directory  datasets/ai_logged_data\n",
      "parsing data from  IoT01-MemsAnn_25_Dec_20_16h_18m_38s.csv\n",
      "parsing data from  IoT01-MemsAnn_25_Dec_20_17h_17m_53s.csv\n",
      "parsing data from  IoT01-MemsAnn_25_Dec_20_17h_19m_36s.csv\n",
      "parsing data from  IoT01-MemsAnn_26_Dec_20_12h_43m_31s.csv\n",
      "parsing data from  IoT01-MemsAnn_26_Dec_20_12h_45m_12s.csv\n",
      "parsing data from  IoT01-MemsAnn_25_Dec_20_16h_19m_38s.csv\n",
      "parsing data from  IoT01-MemsAnn_25_Dec_20_16h_19m_50s.csv\n",
      "parsing data from  IoT01-MemsAnn_26_Dec_20_12h_40m_35s.csv\n",
      "parsing data from  IoT01-MemsAnn_25_Dec_20_17h_18m_22s.csv\n",
      "parsing data from  IoT01-MemsAnn_25_Dec_20_17h_18m_42s.csv\n",
      "parsing data from  IoT01-MemsAnn_25_Dec_20_16h_19m_05s.csv\n",
      "parsing data from  IoT01-MemsAnn_26_Dec_20_12h_42m_58s.csv\n",
      "parsing data from  IoT01-MemsAnn_25_Dec_20_16h_19m_18s.csv\n",
      "parsing data from  IoT01-MemsAnn_26_Dec_20_12h_44m_27s.csv\n",
      "parsing data from  IoT01-MemsAnn_25_Dec_20_17h_17m_20s.csv\n",
      "parsing data from  IoT01-MemsAnn_25_Dec_20_16h_20m_11s.csv\n",
      "parsing data from  IoT01-MemsAnn_26_Dec_20_12h_38m_46s.csv\n",
      "parsing data from  IoT01-MemsAnn_25_Dec_20_17h_19m_15s.csv\n",
      "parsing data from  IoT01-MemsAnn_25_Dec_20_16h_21m_14s.csv\n",
      "parsing data from  IoT01-MemsAnn_25_Dec_20_16h_20m_38s.csv\n",
      "parsing data from  IoT01-MemsAnn_25_Dec_20_17h_16m_08s.csv\n",
      "Segmenting the AI logged Train data\n"
     ]
    },
    {
     "data": {
      "application/vnd.jupyter.widget-view+json": {
       "model_id": "4c57b9106339478fb6a88c585fed5575",
       "version_major": 2,
       "version_minor": 0
      },
      "text/plain": [
       "HBox(children=(HTML(value='Segments built '), FloatProgress(value=0.0, max=282.0), HTML(value='')))"
      ]
     },
     "metadata": {},
     "output_type": "display_data"
    },
    {
     "name": "stdout",
     "output_type": "stream",
     "text": [
      "\n",
      "Segmenting the AI logged Test data\n"
     ]
    },
    {
     "data": {
      "application/vnd.jupyter.widget-view+json": {
       "model_id": "1c42b2eee6a74e84a9daaea84b5b1beb",
       "version_major": 2,
       "version_minor": 0
      },
      "text/plain": [
       "HBox(children=(HTML(value='Segments built '), FloatProgress(value=0.0, max=121.0), HTML(value='')))"
      ]
     },
     "metadata": {},
     "output_type": "display_data"
    },
    {
     "name": "stdout",
     "output_type": "stream",
     "text": [
      "\n",
      "Segmentation finished!\n"
     ]
    }
   ],
   "source": [
    "#TrainX, TrainY, ValidationX, ValidationY, TestX, TestY = myDataHelper.prepare_data()\n",
    "TrainX, TrainY, ValidationX, ValidationY, TestX, TestY = myDataHelper.prepare_self_logged_data()"
   ]
  },
  {
   "cell_type": "markdown",
   "metadata": {},
   "source": [
    "## Step6: Create a `ANNModelHandler` object\n",
    "The script in the following section creates a `ANNModelHandler` object to create, train and validate the <u>A</u>rtificial <u>N</u>eural <u>N</u>etwork (ANN) using the variables created in **Step2**."
   ]
  },
  {
   "cell_type": "code",
   "execution_count": 6,
   "metadata": {},
   "outputs": [],
   "source": [
    "myHarHandler = ANNModelHandler( modelName = modelName, classes = myDataHelper.classes, resultDir = resultDirName,\n",
    "                              inputShape = TrainX.shape, outputShape = TrainY.shape, learningRate = learningRate,\n",
    "                              decayRate = decay, nEpochs = nEpochs, batchSize = batchSize,\n",
    "                              modelFileName = 'har_' + modelName, verbosity = verbosity )"
   ]
  },
  {
   "cell_type": "markdown",
   "metadata": {},
   "source": [
    "## Step6: Create a ANN model\n",
    "Following script creates the ANN and prints its summary to show the architecture and nr of parameters for ANN."
   ]
  },
  {
   "cell_type": "code",
   "execution_count": 7,
   "metadata": {},
   "outputs": [
    {
     "name": "stdout",
     "output_type": "stream",
     "text": [
      "Model: \"sequential\"\n",
      "_________________________________________________________________\n",
      "Layer (type)                 Output Shape              Param #   \n",
      "=================================================================\n",
      "conv2d (Conv2D)              (None, 105, 3, 24)        408       \n",
      "_________________________________________________________________\n",
      "max_pooling2d (MaxPooling2D) (None, 35, 3, 24)         0         \n",
      "_________________________________________________________________\n",
      "flatten (Flatten)            (None, 2520)              0         \n",
      "_________________________________________________________________\n",
      "dense (Dense)                (None, 12)                30252     \n",
      "_________________________________________________________________\n",
      "dropout (Dropout)            (None, 12)                0         \n",
      "_________________________________________________________________\n",
      "dense_1 (Dense)              (None, 2)                 26        \n",
      "=================================================================\n",
      "Total params: 30,686\n",
      "Trainable params: 30,686\n",
      "Non-trainable params: 0\n",
      "_________________________________________________________________\n"
     ]
    }
   ],
   "source": [
    "harModel = myHarHandler.build_model()\n",
    "harModel.summary()"
   ]
  },
  {
   "cell_type": "markdown",
   "metadata": {},
   "source": [
    "## Step7: Create a Checkpoint for ANN training\n",
    "The following script creates a check point for the training process of ANN to save the neural network as `h5` file. The settings are used in a way that the validation accuracy `val_acc` is maximized."
   ]
  },
  {
   "cell_type": "code",
   "execution_count": 8,
   "metadata": {},
   "outputs": [],
   "source": [
    "harModelCheckPoint = ModelCheckpoint( filepath = join(resultDirName, 'har_' + modelName + '.h5'),\n",
    "                                     monitor = 'val_acc', verbose = 0, save_best_only = True, mode = 'max' )"
   ]
  },
  {
   "cell_type": "markdown",
   "metadata": {},
   "source": [
    "## Step7 : Train the created neural network\n",
    "The following script trains the created neural network with the provided checkpoint and created datasets."
   ]
  },
  {
   "cell_type": "code",
   "execution_count": 9,
   "metadata": {
    "tags": [
     "outputPrepend"
    ]
   },
   "outputs": [
    {
     "name": "stdout",
     "output_type": "stream",
     "text": [
      "Epoch 1/250\n",
      "3/3 [==============================] - 1s 205ms/step - loss: 3.2311 - acc: 0.4524 - val_loss: 4.3025 - val_acc: 0.5500\n",
      "Epoch 2/250\n",
      "3/3 [==============================] - 0s 33ms/step - loss: 5.7862 - acc: 0.5482 - val_loss: 4.5726 - val_acc: 0.6000\n",
      "Epoch 3/250\n",
      "3/3 [==============================] - 0s 33ms/step - loss: 4.2081 - acc: 0.6650 - val_loss: 4.6829 - val_acc: 0.6600\n",
      "Epoch 4/250\n",
      "3/3 [==============================] - 0s 31ms/step - loss: 9.3205 - acc: 0.6647 - val_loss: 4.1981 - val_acc: 0.6300\n",
      "Epoch 5/250\n",
      "3/3 [==============================] - 0s 33ms/step - loss: 1.9229 - acc: 0.6933 - val_loss: 4.1376 - val_acc: 0.6000\n",
      "Epoch 6/250\n",
      "3/3 [==============================] - 0s 33ms/step - loss: 3.8074 - acc: 0.6141 - val_loss: 4.1060 - val_acc: 0.6300\n",
      "Epoch 7/250\n",
      "3/3 [==============================] - 0s 33ms/step - loss: 3.0726 - acc: 0.6575 - val_loss: 4.1034 - val_acc: 0.6200\n",
      "Epoch 8/250\n",
      "3/3 [==============================] - 0s 30ms/step - loss: 3.0417 - acc: 0.6930 - val_loss: 4.1143 - val_acc: 0.6200\n",
      "Epoch 9/250\n",
      "3/3 [==============================] - 0s 34ms/step - loss: 2.3928 - acc: 0.6978 - val_loss: 4.1422 - val_acc: 0.6300\n",
      "Epoch 10/250\n",
      "3/3 [==============================] - 0s 33ms/step - loss: 3.2364 - acc: 0.7014 - val_loss: 4.1345 - val_acc: 0.6400\n",
      "Epoch 11/250\n",
      "3/3 [==============================] - 0s 31ms/step - loss: 2.5812 - acc: 0.7287 - val_loss: 4.1258 - val_acc: 0.6500\n",
      "Epoch 12/250\n",
      "3/3 [==============================] - 0s 32ms/step - loss: 3.8412 - acc: 0.6816 - val_loss: 4.0531 - val_acc: 0.6700\n",
      "Epoch 13/250\n",
      "3/3 [==============================] - 0s 35ms/step - loss: 2.7151 - acc: 0.6721 - val_loss: 4.0289 - val_acc: 0.6500\n",
      "Epoch 14/250\n",
      "3/3 [==============================] - 0s 31ms/step - loss: 2.1322 - acc: 0.7185 - val_loss: 4.0121 - val_acc: 0.6500\n",
      "Epoch 15/250\n",
      "3/3 [==============================] - 0s 32ms/step - loss: 2.8909 - acc: 0.7021 - val_loss: 3.9611 - val_acc: 0.6700\n",
      "Epoch 16/250\n",
      "3/3 [==============================] - 0s 30ms/step - loss: 2.5837 - acc: 0.6738 - val_loss: 3.8716 - val_acc: 0.6900\n",
      "Epoch 17/250\n",
      "3/3 [==============================] - 0s 31ms/step - loss: 2.9365 - acc: 0.7110 - val_loss: 3.7673 - val_acc: 0.7100\n",
      "Epoch 18/250\n",
      "3/3 [==============================] - 0s 33ms/step - loss: 2.8046 - acc: 0.7679 - val_loss: 3.7739 - val_acc: 0.7300\n",
      "Epoch 19/250\n",
      "3/3 [==============================] - 0s 33ms/step - loss: 2.3593 - acc: 0.7535 - val_loss: 3.7518 - val_acc: 0.7600\n",
      "Epoch 20/250\n",
      "3/3 [==============================] - 0s 34ms/step - loss: 2.2000 - acc: 0.7814 - val_loss: 3.7235 - val_acc: 0.7700\n",
      "Epoch 21/250\n",
      "3/3 [==============================] - 0s 33ms/step - loss: 2.2224 - acc: 0.7923 - val_loss: 3.6071 - val_acc: 0.7800\n",
      "Epoch 22/250\n",
      "3/3 [==============================] - 0s 35ms/step - loss: 1.6659 - acc: 0.7555 - val_loss: 3.4175 - val_acc: 0.7800\n",
      "Epoch 23/250\n",
      "3/3 [==============================] - 0s 28ms/step - loss: 1.7970 - acc: 0.7582 - val_loss: 3.2855 - val_acc: 0.7800\n",
      "Epoch 24/250\n",
      "3/3 [==============================] - 0s 35ms/step - loss: 1.1601 - acc: 0.7790 - val_loss: 3.2099 - val_acc: 0.8100\n",
      "Epoch 25/250\n",
      "3/3 [==============================] - 0s 31ms/step - loss: 1.7259 - acc: 0.7767 - val_loss: 3.3075 - val_acc: 0.8100\n",
      "Epoch 26/250\n",
      "3/3 [==============================] - 0s 34ms/step - loss: 2.4851 - acc: 0.7570 - val_loss: 3.2771 - val_acc: 0.8000\n",
      "Epoch 27/250\n",
      "3/3 [==============================] - 0s 31ms/step - loss: 1.5682 - acc: 0.7821 - val_loss: 3.0576 - val_acc: 0.7900\n",
      "Epoch 28/250\n",
      "3/3 [==============================] - 0s 31ms/step - loss: 1.4258 - acc: 0.7699 - val_loss: 2.9422 - val_acc: 0.7900\n",
      "Epoch 29/250\n",
      "3/3 [==============================] - 0s 29ms/step - loss: 1.1867 - acc: 0.7822 - val_loss: 2.9677 - val_acc: 0.7900\n",
      "Epoch 30/250\n",
      "3/3 [==============================] - 0s 30ms/step - loss: 1.5630 - acc: 0.7949 - val_loss: 3.0548 - val_acc: 0.7900\n",
      "Epoch 31/250\n",
      "3/3 [==============================] - 0s 29ms/step - loss: 1.1472 - acc: 0.8257 - val_loss: 3.1955 - val_acc: 0.8200\n",
      "Epoch 32/250\n",
      "3/3 [==============================] - 0s 34ms/step - loss: 2.0687 - acc: 0.7430 - val_loss: 3.2739 - val_acc: 0.8100\n",
      "Epoch 33/250\n",
      "3/3 [==============================] - 0s 34ms/step - loss: 1.6898 - acc: 0.8307 - val_loss: 3.3961 - val_acc: 0.8200\n",
      "Epoch 34/250\n",
      "3/3 [==============================] - 0s 32ms/step - loss: 1.1300 - acc: 0.8410 - val_loss: 3.5713 - val_acc: 0.8200\n",
      "Epoch 35/250\n",
      "3/3 [==============================] - 0s 30ms/step - loss: 1.6683 - acc: 0.7508 - val_loss: 3.7623 - val_acc: 0.8300\n",
      "Epoch 36/250\n",
      "3/3 [==============================] - 0s 33ms/step - loss: 2.6694 - acc: 0.7751 - val_loss: 3.7144 - val_acc: 0.8100\n",
      "Epoch 37/250\n",
      "3/3 [==============================] - 0s 33ms/step - loss: 1.3908 - acc: 0.7460 - val_loss: 3.6106 - val_acc: 0.8000\n",
      "Epoch 38/250\n",
      "3/3 [==============================] - 0s 34ms/step - loss: 1.2309 - acc: 0.8441 - val_loss: 3.6396 - val_acc: 0.8000\n",
      "Epoch 39/250\n",
      "3/3 [==============================] - 0s 30ms/step - loss: 1.1115 - acc: 0.7743 - val_loss: 3.7687 - val_acc: 0.8000\n",
      "Epoch 40/250\n",
      "3/3 [==============================] - 0s 30ms/step - loss: 1.2147 - acc: 0.8006 - val_loss: 4.0059 - val_acc: 0.8000\n",
      "Epoch 41/250\n",
      "3/3 [==============================] - 0s 29ms/step - loss: 2.0248 - acc: 0.7884 - val_loss: 4.0576 - val_acc: 0.8000\n",
      "Epoch 42/250\n",
      "3/3 [==============================] - 0s 31ms/step - loss: 0.8369 - acc: 0.8249 - val_loss: 3.9926 - val_acc: 0.8000\n",
      "Epoch 43/250\n",
      "3/3 [==============================] - 0s 31ms/step - loss: 0.8691 - acc: 0.8240 - val_loss: 4.1091 - val_acc: 0.8000\n",
      "Epoch 44/250\n",
      "3/3 [==============================] - 0s 30ms/step - loss: 0.9834 - acc: 0.8061 - val_loss: 4.3065 - val_acc: 0.8100\n",
      "Epoch 45/250\n",
      "3/3 [==============================] - 0s 30ms/step - loss: 1.7715 - acc: 0.8348 - val_loss: 4.3931 - val_acc: 0.8100\n",
      "Epoch 46/250\n",
      "3/3 [==============================] - 0s 30ms/step - loss: 2.1618 - acc: 0.8190 - val_loss: 4.2483 - val_acc: 0.8100\n",
      "Epoch 47/250\n",
      "3/3 [==============================] - 0s 29ms/step - loss: 1.0809 - acc: 0.8276 - val_loss: 4.1913 - val_acc: 0.8100\n",
      "Epoch 48/250\n",
      "3/3 [==============================] - 0s 30ms/step - loss: 0.9983 - acc: 0.8523 - val_loss: 4.1942 - val_acc: 0.8100\n",
      "Epoch 49/250\n",
      "3/3 [==============================] - 0s 28ms/step - loss: 0.8805 - acc: 0.8249 - val_loss: 4.2073 - val_acc: 0.8200\n",
      "Epoch 50/250\n",
      "3/3 [==============================] - 0s 34ms/step - loss: 1.3252 - acc: 0.8229 - val_loss: 4.2749 - val_acc: 0.8200\n",
      "Epoch 51/250\n",
      "3/3 [==============================] - 0s 33ms/step - loss: 0.8896 - acc: 0.8660 - val_loss: 4.3715 - val_acc: 0.8300\n",
      "Epoch 52/250\n",
      "3/3 [==============================] - 0s 32ms/step - loss: 1.6666 - acc: 0.8179 - val_loss: 4.4050 - val_acc: 0.8300\n",
      "Epoch 53/250\n",
      "3/3 [==============================] - 0s 31ms/step - loss: 1.5205 - acc: 0.7786 - val_loss: 4.3862 - val_acc: 0.8300\n",
      "Epoch 54/250\n",
      "3/3 [==============================] - 0s 34ms/step - loss: 0.8970 - acc: 0.8681 - val_loss: 4.4533 - val_acc: 0.8300\n",
      "Epoch 55/250\n",
      "3/3 [==============================] - 0s 30ms/step - loss: 1.4721 - acc: 0.8398 - val_loss: 4.6294 - val_acc: 0.8400\n",
      "Epoch 56/250\n",
      "3/3 [==============================] - 0s 28ms/step - loss: 0.8939 - acc: 0.8315 - val_loss: 4.6517 - val_acc: 0.8400\n",
      "Epoch 57/250\n",
      "3/3 [==============================] - 0s 29ms/step - loss: 0.9217 - acc: 0.8574 - val_loss: 4.7053 - val_acc: 0.8500\n",
      "Epoch 58/250\n",
      "3/3 [==============================] - 0s 29ms/step - loss: 1.5262 - acc: 0.8834 - val_loss: 4.7462 - val_acc: 0.8500\n",
      "Epoch 59/250\n",
      "3/3 [==============================] - 0s 31ms/step - loss: 0.5625 - acc: 0.8787 - val_loss: 4.7609 - val_acc: 0.8500\n",
      "Epoch 60/250\n",
      "3/3 [==============================] - 0s 32ms/step - loss: 1.6551 - acc: 0.8979 - val_loss: 4.6628 - val_acc: 0.8500\n",
      "Epoch 61/250\n",
      "3/3 [==============================] - 0s 32ms/step - loss: 0.8737 - acc: 0.8673 - val_loss: 4.5931 - val_acc: 0.8500\n",
      "Epoch 62/250\n",
      "3/3 [==============================] - 0s 31ms/step - loss: 0.4391 - acc: 0.8686 - val_loss: 4.5702 - val_acc: 0.8500\n",
      "Epoch 63/250\n"
     ]
    },
    {
     "name": "stdout",
     "output_type": "stream",
     "text": [
      "3/3 [==============================] - 0s 32ms/step - loss: 0.9827 - acc: 0.8587 - val_loss: 4.4849 - val_acc: 0.8400\n",
      "Epoch 64/250\n",
      "3/3 [==============================] - 0s 34ms/step - loss: 0.7225 - acc: 0.8896 - val_loss: 4.3570 - val_acc: 0.8400\n",
      "Epoch 65/250\n",
      "3/3 [==============================] - 0s 29ms/step - loss: 0.8427 - acc: 0.9107 - val_loss: 4.2561 - val_acc: 0.8400\n",
      "Epoch 66/250\n",
      "3/3 [==============================] - 0s 29ms/step - loss: 1.3070 - acc: 0.8618 - val_loss: 4.2218 - val_acc: 0.8400\n",
      "Epoch 67/250\n",
      "3/3 [==============================] - 0s 30ms/step - loss: 0.8510 - acc: 0.8449 - val_loss: 4.2421 - val_acc: 0.8400\n",
      "Epoch 68/250\n",
      "3/3 [==============================] - 0s 29ms/step - loss: 0.9048 - acc: 0.8421 - val_loss: 4.3161 - val_acc: 0.8400\n",
      "Epoch 69/250\n",
      "3/3 [==============================] - 0s 29ms/step - loss: 0.7046 - acc: 0.8823 - val_loss: 4.4006 - val_acc: 0.8400\n",
      "Epoch 70/250\n",
      "3/3 [==============================] - 0s 29ms/step - loss: 1.3613 - acc: 0.8340 - val_loss: 4.5050 - val_acc: 0.8400\n",
      "Epoch 71/250\n",
      "3/3 [==============================] - 0s 30ms/step - loss: 0.7347 - acc: 0.8632 - val_loss: 4.6202 - val_acc: 0.8600\n",
      "Epoch 72/250\n",
      "3/3 [==============================] - 0s 31ms/step - loss: 0.8019 - acc: 0.8548 - val_loss: 4.7390 - val_acc: 0.8900\n",
      "Epoch 73/250\n",
      "3/3 [==============================] - 0s 28ms/step - loss: 0.5717 - acc: 0.8531 - val_loss: 4.8807 - val_acc: 0.8800\n",
      "Epoch 74/250\n",
      "3/3 [==============================] - 0s 30ms/step - loss: 1.5274 - acc: 0.8430 - val_loss: 4.9992 - val_acc: 0.8900\n",
      "Epoch 75/250\n",
      "3/3 [==============================] - 0s 31ms/step - loss: 0.8422 - acc: 0.8740 - val_loss: 5.1035 - val_acc: 0.8900\n",
      "Epoch 76/250\n",
      "3/3 [==============================] - 0s 34ms/step - loss: 0.6288 - acc: 0.8501 - val_loss: 5.0706 - val_acc: 0.8900\n",
      "Epoch 77/250\n",
      "3/3 [==============================] - 0s 30ms/step - loss: 0.6990 - acc: 0.8940 - val_loss: 5.0217 - val_acc: 0.8900\n",
      "Epoch 78/250\n",
      "3/3 [==============================] - 0s 30ms/step - loss: 0.6837 - acc: 0.8979 - val_loss: 5.0201 - val_acc: 0.8700\n",
      "Epoch 79/250\n",
      "3/3 [==============================] - 0s 30ms/step - loss: 1.0113 - acc: 0.8752 - val_loss: 5.0538 - val_acc: 0.8700\n",
      "Epoch 80/250\n",
      "3/3 [==============================] - 0s 27ms/step - loss: 0.5608 - acc: 0.8834 - val_loss: 5.0750 - val_acc: 0.8700\n",
      "Epoch 81/250\n",
      "3/3 [==============================] - 0s 28ms/step - loss: 0.7286 - acc: 0.8696 - val_loss: 5.1020 - val_acc: 0.8700\n",
      "Epoch 82/250\n",
      "3/3 [==============================] - 0s 29ms/step - loss: 0.8187 - acc: 0.8187 - val_loss: 5.1604 - val_acc: 0.8700\n",
      "Epoch 83/250\n",
      "3/3 [==============================] - 0s 30ms/step - loss: 0.5169 - acc: 0.8790 - val_loss: 5.2304 - val_acc: 0.8800\n",
      "Epoch 84/250\n",
      "3/3 [==============================] - 0s 30ms/step - loss: 1.3938 - acc: 0.8520 - val_loss: 5.2604 - val_acc: 0.8700\n",
      "Epoch 85/250\n",
      "3/3 [==============================] - 0s 32ms/step - loss: 0.5946 - acc: 0.9250 - val_loss: 5.2582 - val_acc: 0.8700\n",
      "Epoch 86/250\n",
      "3/3 [==============================] - 0s 31ms/step - loss: 0.6313 - acc: 0.8837 - val_loss: 5.2788 - val_acc: 0.8700\n",
      "Epoch 87/250\n",
      "3/3 [==============================] - 0s 30ms/step - loss: 0.9121 - acc: 0.9081 - val_loss: 5.3300 - val_acc: 0.8700\n",
      "Epoch 88/250\n",
      "3/3 [==============================] - 0s 31ms/step - loss: 0.6699 - acc: 0.8936 - val_loss: 5.3986 - val_acc: 0.8700\n",
      "Epoch 89/250\n",
      "3/3 [==============================] - 0s 30ms/step - loss: 0.5504 - acc: 0.8858 - val_loss: 5.4717 - val_acc: 0.8700\n",
      "Epoch 90/250\n",
      "3/3 [==============================] - 0s 32ms/step - loss: 0.5582 - acc: 0.8783 - val_loss: 5.5528 - val_acc: 0.8700\n",
      "Epoch 91/250\n",
      "3/3 [==============================] - 0s 33ms/step - loss: 0.4834 - acc: 0.9054 - val_loss: 5.6199 - val_acc: 0.8800\n",
      "Epoch 92/250\n",
      "3/3 [==============================] - 0s 30ms/step - loss: 0.4146 - acc: 0.9156 - val_loss: 5.6794 - val_acc: 0.8900\n",
      "Epoch 93/250\n",
      "3/3 [==============================] - 0s 29ms/step - loss: 0.5574 - acc: 0.9081 - val_loss: 5.7264 - val_acc: 0.9000\n",
      "Epoch 94/250\n",
      "3/3 [==============================] - 0s 30ms/step - loss: 0.3986 - acc: 0.9140 - val_loss: 5.7743 - val_acc: 0.9100\n",
      "Epoch 95/250\n",
      "3/3 [==============================] - 0s 29ms/step - loss: 0.4663 - acc: 0.9070 - val_loss: 5.8149 - val_acc: 0.9100\n",
      "Epoch 96/250\n",
      "3/3 [==============================] - 0s 29ms/step - loss: 0.4677 - acc: 0.9379 - val_loss: 5.8508 - val_acc: 0.9100\n",
      "Epoch 97/250\n",
      "3/3 [==============================] - 0s 31ms/step - loss: 0.4369 - acc: 0.9128 - val_loss: 5.8797 - val_acc: 0.9200\n",
      "Epoch 98/250\n",
      "3/3 [==============================] - 0s 28ms/step - loss: 0.5206 - acc: 0.9093 - val_loss: 5.9192 - val_acc: 0.9200\n",
      "Epoch 99/250\n",
      "3/3 [==============================] - 0s 32ms/step - loss: 0.3552 - acc: 0.9470 - val_loss: 5.9427 - val_acc: 0.9200\n",
      "Epoch 100/250\n",
      "3/3 [==============================] - 0s 31ms/step - loss: 0.7657 - acc: 0.9333 - val_loss: 5.9640 - val_acc: 0.9100\n",
      "Epoch 101/250\n",
      "3/3 [==============================] - 0s 31ms/step - loss: 0.4652 - acc: 0.9242 - val_loss: 5.9882 - val_acc: 0.9100\n",
      "Epoch 102/250\n",
      "3/3 [==============================] - 0s 29ms/step - loss: 0.3924 - acc: 0.9159 - val_loss: 6.0260 - val_acc: 0.9100\n",
      "Epoch 103/250\n",
      "3/3 [==============================] - 0s 29ms/step - loss: 0.4705 - acc: 0.9101 - val_loss: 6.0583 - val_acc: 0.9100\n",
      "Epoch 104/250\n",
      "3/3 [==============================] - 0s 31ms/step - loss: 0.5416 - acc: 0.9163 - val_loss: 6.1058 - val_acc: 0.9200\n",
      "Epoch 105/250\n",
      "3/3 [==============================] - 0s 31ms/step - loss: 0.4041 - acc: 0.9376 - val_loss: 6.1672 - val_acc: 0.9200\n",
      "Epoch 106/250\n",
      "3/3 [==============================] - 0s 32ms/step - loss: 0.4569 - acc: 0.9301 - val_loss: 6.1731 - val_acc: 0.9200\n",
      "Epoch 107/250\n",
      "3/3 [==============================] - 0s 27ms/step - loss: 0.5015 - acc: 0.9285 - val_loss: 6.1289 - val_acc: 0.9200\n",
      "Epoch 108/250\n",
      "3/3 [==============================] - 0s 32ms/step - loss: 0.5493 - acc: 0.8819 - val_loss: 6.0642 - val_acc: 0.9200\n",
      "Epoch 109/250\n",
      "3/3 [==============================] - 0s 39ms/step - loss: 0.4800 - acc: 0.9367 - val_loss: 5.9842 - val_acc: 0.9300\n",
      "Epoch 110/250\n",
      "3/3 [==============================] - 0s 34ms/step - loss: 0.4911 - acc: 0.9105 - val_loss: 5.9253 - val_acc: 0.9200\n",
      "Epoch 111/250\n",
      "3/3 [==============================] - 0s 34ms/step - loss: 0.4349 - acc: 0.9340 - val_loss: 5.8999 - val_acc: 0.9200\n",
      "Epoch 112/250\n",
      "3/3 [==============================] - 0s 29ms/step - loss: 0.4933 - acc: 0.9039 - val_loss: 5.8826 - val_acc: 0.9100\n",
      "Epoch 113/250\n",
      "3/3 [==============================] - 0s 29ms/step - loss: 0.6073 - acc: 0.9070 - val_loss: 5.9029 - val_acc: 0.9200\n",
      "Epoch 114/250\n",
      "3/3 [==============================] - 0s 31ms/step - loss: 0.8119 - acc: 0.8881 - val_loss: 5.9333 - val_acc: 0.9200\n",
      "Epoch 115/250\n",
      "3/3 [==============================] - 0s 30ms/step - loss: 0.5801 - acc: 0.9164 - val_loss: 5.9730 - val_acc: 0.9200\n",
      "Epoch 116/250\n",
      "3/3 [==============================] - 0s 30ms/step - loss: 0.5840 - acc: 0.8849 - val_loss: 6.0276 - val_acc: 0.9300\n",
      "Epoch 117/250\n",
      "3/3 [==============================] - 0s 32ms/step - loss: 0.3976 - acc: 0.9434 - val_loss: 6.0858 - val_acc: 0.9300\n",
      "Epoch 118/250\n",
      "3/3 [==============================] - 0s 30ms/step - loss: 0.4487 - acc: 0.9027 - val_loss: 6.1392 - val_acc: 0.9300\n",
      "Epoch 119/250\n",
      "3/3 [==============================] - 0s 29ms/step - loss: 0.3912 - acc: 0.9481 - val_loss: 6.1771 - val_acc: 0.9300\n",
      "Epoch 120/250\n",
      "3/3 [==============================] - 0s 29ms/step - loss: 0.5008 - acc: 0.8552 - val_loss: 6.2164 - val_acc: 0.9200\n",
      "Epoch 121/250\n",
      "3/3 [==============================] - 0s 29ms/step - loss: 0.5048 - acc: 0.9281 - val_loss: 6.2628 - val_acc: 0.9200\n",
      "Epoch 122/250\n",
      "3/3 [==============================] - 0s 29ms/step - loss: 0.4239 - acc: 0.8944 - val_loss: 6.2751 - val_acc: 0.9200\n",
      "Epoch 123/250\n",
      "3/3 [==============================] - 0s 30ms/step - loss: 0.4119 - acc: 0.9289 - val_loss: 6.3029 - val_acc: 0.9200\n",
      "Epoch 124/250\n",
      "3/3 [==============================] - 0s 30ms/step - loss: 0.3490 - acc: 0.9478 - val_loss: 6.3207 - val_acc: 0.9200\n",
      "Epoch 125/250\n"
     ]
    },
    {
     "name": "stdout",
     "output_type": "stream",
     "text": [
      "3/3 [==============================] - 0s 28ms/step - loss: 0.4186 - acc: 0.9340 - val_loss: 6.3354 - val_acc: 0.9200\n",
      "Epoch 126/250\n",
      "3/3 [==============================] - 0s 31ms/step - loss: 0.5719 - acc: 0.9273 - val_loss: 6.3420 - val_acc: 0.9200\n",
      "Epoch 127/250\n",
      "3/3 [==============================] - 0s 31ms/step - loss: 0.4189 - acc: 0.9486 - val_loss: 6.2611 - val_acc: 0.9200\n",
      "Epoch 128/250\n",
      "3/3 [==============================] - 0s 30ms/step - loss: 0.4833 - acc: 0.9175 - val_loss: 6.1955 - val_acc: 0.9300\n",
      "Epoch 129/250\n",
      "3/3 [==============================] - 0s 30ms/step - loss: 0.3484 - acc: 0.9450 - val_loss: 6.1601 - val_acc: 0.9300\n",
      "Epoch 130/250\n",
      "3/3 [==============================] - 0s 32ms/step - loss: 0.5885 - acc: 0.9427 - val_loss: 6.1475 - val_acc: 0.9300\n",
      "Epoch 131/250\n",
      "3/3 [==============================] - 0s 33ms/step - loss: 0.3627 - acc: 0.9340 - val_loss: 6.1451 - val_acc: 0.9300\n",
      "Epoch 132/250\n",
      "3/3 [==============================] - 0s 30ms/step - loss: 0.4458 - acc: 0.9532 - val_loss: 6.1511 - val_acc: 0.9300\n",
      "Epoch 133/250\n",
      "3/3 [==============================] - 0s 30ms/step - loss: 0.5293 - acc: 0.9164 - val_loss: 6.1722 - val_acc: 0.9300\n",
      "Epoch 134/250\n",
      "3/3 [==============================] - 0s 29ms/step - loss: 0.3671 - acc: 0.9658 - val_loss: 6.2149 - val_acc: 0.9300\n",
      "Epoch 135/250\n",
      "3/3 [==============================] - 0s 31ms/step - loss: 0.4025 - acc: 0.9509 - val_loss: 6.2480 - val_acc: 0.9300\n",
      "Epoch 136/250\n",
      "3/3 [==============================] - 0s 28ms/step - loss: 0.4297 - acc: 0.9247 - val_loss: 6.2712 - val_acc: 0.9300\n",
      "Epoch 137/250\n",
      "3/3 [==============================] - 0s 27ms/step - loss: 0.4546 - acc: 0.9364 - val_loss: 6.3004 - val_acc: 0.9300\n",
      "Epoch 138/250\n",
      "3/3 [==============================] - 0s 28ms/step - loss: 0.3514 - acc: 0.9195 - val_loss: 6.3488 - val_acc: 0.9300\n",
      "Epoch 139/250\n",
      "3/3 [==============================] - 0s 31ms/step - loss: 0.3961 - acc: 0.9497 - val_loss: 6.4084 - val_acc: 0.9400\n",
      "Epoch 140/250\n",
      "3/3 [==============================] - 0s 31ms/step - loss: 0.3230 - acc: 0.9572 - val_loss: 6.4668 - val_acc: 0.9300\n",
      "Epoch 141/250\n",
      "3/3 [==============================] - 0s 30ms/step - loss: 0.3669 - acc: 0.9361 - val_loss: 6.5233 - val_acc: 0.9400\n",
      "Epoch 142/250\n",
      "3/3 [==============================] - 0s 31ms/step - loss: 0.3643 - acc: 0.9618 - val_loss: 6.5440 - val_acc: 0.9400\n",
      "Epoch 143/250\n",
      "3/3 [==============================] - 0s 31ms/step - loss: 0.4068 - acc: 0.9250 - val_loss: 6.5369 - val_acc: 0.9400\n",
      "Epoch 144/250\n",
      "3/3 [==============================] - 0s 30ms/step - loss: 0.4307 - acc: 0.9439 - val_loss: 6.5295 - val_acc: 0.9400\n",
      "Epoch 145/250\n",
      "3/3 [==============================] - 0s 31ms/step - loss: 0.4073 - acc: 0.9407 - val_loss: 6.4186 - val_acc: 0.9500\n",
      "Epoch 146/250\n",
      "3/3 [==============================] - 0s 31ms/step - loss: 0.3695 - acc: 0.9356 - val_loss: 6.3316 - val_acc: 0.9400\n",
      "Epoch 147/250\n",
      "3/3 [==============================] - 0s 31ms/step - loss: 0.3434 - acc: 0.9537 - val_loss: 6.2667 - val_acc: 0.9300\n",
      "Epoch 148/250\n",
      "3/3 [==============================] - 0s 28ms/step - loss: 0.4570 - acc: 0.9325 - val_loss: 6.2393 - val_acc: 0.9400\n",
      "Epoch 149/250\n",
      "3/3 [==============================] - 0s 28ms/step - loss: 0.3361 - acc: 0.9576 - val_loss: 6.2132 - val_acc: 0.9400\n",
      "Epoch 150/250\n",
      "3/3 [==============================] - 0s 29ms/step - loss: 0.5324 - acc: 0.8975 - val_loss: 6.2167 - val_acc: 0.9500\n",
      "Epoch 151/250\n",
      "3/3 [==============================] - 0s 27ms/step - loss: 0.4180 - acc: 0.9094 - val_loss: 6.2557 - val_acc: 0.9600\n",
      "Epoch 152/250\n",
      "3/3 [==============================] - 0s 29ms/step - loss: 0.3445 - acc: 0.9717 - val_loss: 6.2958 - val_acc: 0.9600\n",
      "Epoch 153/250\n",
      "3/3 [==============================] - 0s 30ms/step - loss: 0.3714 - acc: 0.9603 - val_loss: 6.3399 - val_acc: 0.9600\n",
      "Epoch 154/250\n",
      "3/3 [==============================] - 0s 30ms/step - loss: 0.4827 - acc: 0.9392 - val_loss: 6.3717 - val_acc: 0.9500\n",
      "Epoch 155/250\n",
      "3/3 [==============================] - 0s 32ms/step - loss: 0.3769 - acc: 0.9403 - val_loss: 6.3859 - val_acc: 0.9500\n",
      "Epoch 156/250\n",
      "3/3 [==============================] - 0s 29ms/step - loss: 0.3545 - acc: 0.9533 - val_loss: 6.3995 - val_acc: 0.9500\n",
      "Epoch 157/250\n",
      "3/3 [==============================] - 0s 29ms/step - loss: 0.4099 - acc: 0.9250 - val_loss: 6.4099 - val_acc: 0.9500\n",
      "Epoch 158/250\n",
      "3/3 [==============================] - 0s 31ms/step - loss: 0.3705 - acc: 0.9345 - val_loss: 6.4220 - val_acc: 0.9500\n",
      "Epoch 159/250\n",
      "3/3 [==============================] - 0s 28ms/step - loss: 0.4878 - acc: 0.9545 - val_loss: 6.4343 - val_acc: 0.9500\n",
      "Epoch 160/250\n",
      "3/3 [==============================] - 0s 30ms/step - loss: 0.3107 - acc: 0.9501 - val_loss: 6.4402 - val_acc: 0.9500\n",
      "Epoch 161/250\n",
      "3/3 [==============================] - 0s 28ms/step - loss: 0.3053 - acc: 0.9615 - val_loss: 6.4385 - val_acc: 0.9500\n",
      "Epoch 162/250\n",
      "3/3 [==============================] - 0s 29ms/step - loss: 0.3248 - acc: 0.9403 - val_loss: 6.4272 - val_acc: 0.9500\n",
      "Epoch 163/250\n",
      "3/3 [==============================] - 0s 29ms/step - loss: 0.3201 - acc: 0.9556 - val_loss: 6.4230 - val_acc: 0.9500\n",
      "Epoch 164/250\n",
      "3/3 [==============================] - 0s 29ms/step - loss: 0.3640 - acc: 0.9556 - val_loss: 6.4203 - val_acc: 0.9500\n",
      "Epoch 165/250\n",
      "3/3 [==============================] - 0s 28ms/step - loss: 0.3804 - acc: 0.9592 - val_loss: 6.4337 - val_acc: 0.9500\n",
      "Epoch 166/250\n",
      "3/3 [==============================] - 0s 28ms/step - loss: 0.4343 - acc: 0.9301 - val_loss: 6.4596 - val_acc: 0.9500\n",
      "Epoch 167/250\n",
      "3/3 [==============================] - 0s 27ms/step - loss: 0.2830 - acc: 0.9603 - val_loss: 6.4830 - val_acc: 0.9500\n",
      "Epoch 168/250\n",
      "3/3 [==============================] - 0s 28ms/step - loss: 0.2970 - acc: 0.9729 - val_loss: 6.5075 - val_acc: 0.9500\n",
      "Epoch 169/250\n",
      "3/3 [==============================] - 0s 29ms/step - loss: 0.2609 - acc: 0.9756 - val_loss: 6.5290 - val_acc: 0.9500\n",
      "Epoch 170/250\n",
      "3/3 [==============================] - 0s 29ms/step - loss: 0.3968 - acc: 0.9467 - val_loss: 6.5057 - val_acc: 0.9500\n",
      "Epoch 171/250\n",
      "3/3 [==============================] - 0s 30ms/step - loss: 0.3160 - acc: 0.9631 - val_loss: 6.4868 - val_acc: 0.9500\n",
      "Epoch 172/250\n",
      "3/3 [==============================] - 0s 32ms/step - loss: 0.3085 - acc: 0.9258 - val_loss: 6.4662 - val_acc: 0.9500\n",
      "Epoch 173/250\n",
      "3/3 [==============================] - 0s 31ms/step - loss: 0.2851 - acc: 0.9729 - val_loss: 6.4651 - val_acc: 0.9500\n",
      "Epoch 174/250\n",
      "3/3 [==============================] - 0s 32ms/step - loss: 0.3405 - acc: 0.9584 - val_loss: 6.4684 - val_acc: 0.9500\n",
      "Epoch 175/250\n",
      "3/3 [==============================] - 0s 29ms/step - loss: 0.3352 - acc: 0.9514 - val_loss: 6.4710 - val_acc: 0.9500\n",
      "Epoch 176/250\n",
      "3/3 [==============================] - 0s 30ms/step - loss: 0.3307 - acc: 0.9481 - val_loss: 6.4757 - val_acc: 0.9500\n",
      "Epoch 177/250\n",
      "3/3 [==============================] - 0s 37ms/step - loss: 0.2846 - acc: 0.9450 - val_loss: 6.4822 - val_acc: 0.9500\n",
      "Epoch 178/250\n",
      "3/3 [==============================] - 0s 30ms/step - loss: 0.2777 - acc: 0.9686 - val_loss: 6.4928 - val_acc: 0.9500\n",
      "Epoch 179/250\n",
      "3/3 [==============================] - 0s 28ms/step - loss: 0.3391 - acc: 0.9642 - val_loss: 6.5167 - val_acc: 0.9500\n",
      "Epoch 180/250\n",
      "3/3 [==============================] - 0s 29ms/step - loss: 0.3553 - acc: 0.9580 - val_loss: 6.5418 - val_acc: 0.9500\n",
      "Epoch 181/250\n",
      "3/3 [==============================] - 0s 31ms/step - loss: 0.2466 - acc: 0.9792 - val_loss: 6.5660 - val_acc: 0.9500\n",
      "Epoch 182/250\n",
      "3/3 [==============================] - 0s 30ms/step - loss: 0.2809 - acc: 0.9670 - val_loss: 6.5946 - val_acc: 0.9500\n",
      "Epoch 183/250\n",
      "3/3 [==============================] - 0s 31ms/step - loss: 0.2508 - acc: 0.9725 - val_loss: 6.6144 - val_acc: 0.9500\n",
      "Epoch 184/250\n",
      "3/3 [==============================] - 0s 30ms/step - loss: 0.3125 - acc: 0.9623 - val_loss: 6.6351 - val_acc: 0.9500\n",
      "Epoch 185/250\n",
      "3/3 [==============================] - 0s 30ms/step - loss: 0.3192 - acc: 0.9698 - val_loss: 6.6499 - val_acc: 0.9500\n",
      "Epoch 186/250\n",
      "3/3 [==============================] - 0s 34ms/step - loss: 0.2655 - acc: 0.9698 - val_loss: 6.6772 - val_acc: 0.9500\n",
      "Epoch 187/250\n"
     ]
    },
    {
     "name": "stdout",
     "output_type": "stream",
     "text": [
      "3/3 [==============================] - 0s 31ms/step - loss: 0.2506 - acc: 0.9803 - val_loss: 6.7021 - val_acc: 0.9500\n",
      "Epoch 188/250\n",
      "3/3 [==============================] - 0s 30ms/step - loss: 0.2829 - acc: 0.9662 - val_loss: 6.7312 - val_acc: 0.9500\n",
      "Epoch 189/250\n",
      "3/3 [==============================] - 0s 32ms/step - loss: 0.3463 - acc: 0.9497 - val_loss: 6.7621 - val_acc: 0.9400\n",
      "Epoch 190/250\n",
      "3/3 [==============================] - 0s 29ms/step - loss: 0.2809 - acc: 0.9756 - val_loss: 6.7385 - val_acc: 0.9500\n",
      "Epoch 191/250\n",
      "3/3 [==============================] - 0s 29ms/step - loss: 0.2719 - acc: 0.9478 - val_loss: 6.7155 - val_acc: 0.9500\n",
      "Epoch 192/250\n",
      "3/3 [==============================] - 0s 29ms/step - loss: 0.3634 - acc: 0.9506 - val_loss: 6.6993 - val_acc: 0.9500\n",
      "Epoch 193/250\n",
      "3/3 [==============================] - 0s 29ms/step - loss: 0.2688 - acc: 0.9753 - val_loss: 6.6937 - val_acc: 0.9500\n",
      "Epoch 194/250\n",
      "3/3 [==============================] - 0s 28ms/step - loss: 0.3312 - acc: 0.9470 - val_loss: 6.6940 - val_acc: 0.9500\n",
      "Epoch 195/250\n",
      "3/3 [==============================] - 0s 32ms/step - loss: 0.3244 - acc: 0.9478 - val_loss: 6.6984 - val_acc: 0.9500\n",
      "Epoch 196/250\n",
      "3/3 [==============================] - 0s 29ms/step - loss: 0.2664 - acc: 0.9670 - val_loss: 6.7055 - val_acc: 0.9500\n",
      "Epoch 197/250\n",
      "3/3 [==============================] - 0s 31ms/step - loss: 0.2552 - acc: 0.9725 - val_loss: 6.7070 - val_acc: 0.9500\n",
      "Epoch 198/250\n",
      "3/3 [==============================] - 0s 29ms/step - loss: 0.2942 - acc: 0.9525 - val_loss: 6.7148 - val_acc: 0.9500\n",
      "Epoch 199/250\n",
      "3/3 [==============================] - 0s 31ms/step - loss: 0.3109 - acc: 0.9548 - val_loss: 6.7331 - val_acc: 0.9500\n",
      "Epoch 200/250\n",
      "3/3 [==============================] - 0s 34ms/step - loss: 0.2932 - acc: 0.9717 - val_loss: 6.7738 - val_acc: 0.9500\n",
      "Epoch 201/250\n",
      "3/3 [==============================] - 0s 29ms/step - loss: 0.2871 - acc: 0.9603 - val_loss: 6.8093 - val_acc: 0.9400\n",
      "Epoch 202/250\n",
      "3/3 [==============================] - 0s 31ms/step - loss: 0.3263 - acc: 0.9419 - val_loss: 6.8384 - val_acc: 0.9400\n",
      "Epoch 203/250\n",
      "3/3 [==============================] - 0s 30ms/step - loss: 0.3263 - acc: 0.9514 - val_loss: 6.8664 - val_acc: 0.9400\n",
      "Epoch 204/250\n",
      "3/3 [==============================] - 0s 28ms/step - loss: 0.2904 - acc: 0.9619 - val_loss: 6.8724 - val_acc: 0.9400\n",
      "Epoch 205/250\n",
      "3/3 [==============================] - 0s 28ms/step - loss: 0.2864 - acc: 0.9525 - val_loss: 6.8826 - val_acc: 0.9400\n",
      "Epoch 206/250\n",
      "3/3 [==============================] - 0s 26ms/step - loss: 0.3213 - acc: 0.9553 - val_loss: 6.9056 - val_acc: 0.9400\n",
      "Epoch 207/250\n",
      "3/3 [==============================] - 0s 28ms/step - loss: 0.2755 - acc: 0.9592 - val_loss: 6.9131 - val_acc: 0.9400\n",
      "Epoch 208/250\n",
      "3/3 [==============================] - 0s 30ms/step - loss: 0.3986 - acc: 0.9733 - val_loss: 6.8354 - val_acc: 0.9500\n",
      "Epoch 209/250\n",
      "3/3 [==============================] - 0s 32ms/step - loss: 0.2812 - acc: 0.9733 - val_loss: 6.8203 - val_acc: 0.9500\n",
      "Epoch 210/250\n",
      "3/3 [==============================] - 0s 30ms/step - loss: 0.2396 - acc: 0.9839 - val_loss: 6.8324 - val_acc: 0.9500\n",
      "Epoch 211/250\n",
      "3/3 [==============================] - 0s 29ms/step - loss: 0.6839 - acc: 0.9780 - val_loss: 6.7937 - val_acc: 0.9500\n",
      "Epoch 212/250\n",
      "3/3 [==============================] - 0s 30ms/step - loss: 0.2278 - acc: 0.9823 - val_loss: 6.7471 - val_acc: 0.9500\n",
      "Epoch 213/250\n",
      "3/3 [==============================] - 0s 30ms/step - loss: 0.4049 - acc: 0.9780 - val_loss: 6.7179 - val_acc: 0.9600\n",
      "Epoch 214/250\n",
      "3/3 [==============================] - 0s 34ms/step - loss: 0.3130 - acc: 0.9658 - val_loss: 6.7161 - val_acc: 0.9600\n",
      "Epoch 215/250\n",
      "3/3 [==============================] - 0s 29ms/step - loss: 0.3522 - acc: 0.9595 - val_loss: 6.7615 - val_acc: 0.9500\n",
      "Epoch 216/250\n",
      "3/3 [==============================] - 0s 29ms/step - loss: 0.2249 - acc: 0.9725 - val_loss: 6.8147 - val_acc: 0.9500\n",
      "Epoch 217/250\n",
      "3/3 [==============================] - 0s 30ms/step - loss: 0.2734 - acc: 0.9745 - val_loss: 6.8860 - val_acc: 0.9500\n",
      "Epoch 218/250\n",
      "3/3 [==============================] - 0s 29ms/step - loss: 0.2176 - acc: 0.9819 - val_loss: 6.9518 - val_acc: 0.9500\n",
      "Epoch 219/250\n",
      "3/3 [==============================] - 0s 30ms/step - loss: 0.2582 - acc: 0.9784 - val_loss: 7.0005 - val_acc: 0.9500\n",
      "Epoch 220/250\n",
      "3/3 [==============================] - 0s 29ms/step - loss: 0.4142 - acc: 0.9753 - val_loss: 7.0506 - val_acc: 0.9500\n",
      "Epoch 221/250\n",
      "3/3 [==============================] - 0s 29ms/step - loss: 0.2353 - acc: 0.9658 - val_loss: 7.0922 - val_acc: 0.9500\n",
      "Epoch 222/250\n",
      "3/3 [==============================] - 0s 28ms/step - loss: 0.2610 - acc: 0.9772 - val_loss: 7.1507 - val_acc: 0.9400\n",
      "Epoch 223/250\n",
      "3/3 [==============================] - 0s 29ms/step - loss: 0.2851 - acc: 0.9776 - val_loss: 7.2247 - val_acc: 0.9400\n",
      "Epoch 224/250\n",
      "3/3 [==============================] - 0s 30ms/step - loss: 0.2285 - acc: 0.9670 - val_loss: 7.2781 - val_acc: 0.9400\n",
      "Epoch 225/250\n",
      "3/3 [==============================] - 0s 28ms/step - loss: 0.3280 - acc: 0.9756 - val_loss: 7.3269 - val_acc: 0.9400\n",
      "Epoch 226/250\n",
      "3/3 [==============================] - 0s 29ms/step - loss: 0.2067 - acc: 0.9678 - val_loss: 7.3568 - val_acc: 0.9400\n",
      "Epoch 227/250\n",
      "3/3 [==============================] - 0s 31ms/step - loss: 0.2473 - acc: 0.9753 - val_loss: 7.3681 - val_acc: 0.9400\n",
      "Epoch 228/250\n",
      "3/3 [==============================] - 0s 34ms/step - loss: 0.2177 - acc: 0.9631 - val_loss: 7.3842 - val_acc: 0.9400\n",
      "Epoch 229/250\n",
      "3/3 [==============================] - 0s 30ms/step - loss: 0.2386 - acc: 0.9611 - val_loss: 7.3806 - val_acc: 0.9400\n",
      "Epoch 230/250\n",
      "3/3 [==============================] - 0s 31ms/step - loss: 0.2517 - acc: 0.9800 - val_loss: 7.3397 - val_acc: 0.9400\n",
      "Epoch 231/250\n",
      "3/3 [==============================] - 0s 29ms/step - loss: 0.2365 - acc: 0.9619 - val_loss: 7.2826 - val_acc: 0.9400\n",
      "Epoch 232/250\n",
      "3/3 [==============================] - 0s 30ms/step - loss: 0.2075 - acc: 0.9737 - val_loss: 7.2320 - val_acc: 0.9400\n",
      "Epoch 233/250\n",
      "3/3 [==============================] - 0s 29ms/step - loss: 0.2076 - acc: 0.9859 - val_loss: 7.1770 - val_acc: 0.9400\n",
      "Epoch 234/250\n",
      "3/3 [==============================] - 0s 29ms/step - loss: 0.2326 - acc: 0.9706 - val_loss: 7.1108 - val_acc: 0.9400\n",
      "Epoch 235/250\n",
      "3/3 [==============================] - 0s 29ms/step - loss: 0.2529 - acc: 0.9580 - val_loss: 7.0693 - val_acc: 0.9500\n",
      "Epoch 236/250\n",
      "3/3 [==============================] - 0s 29ms/step - loss: 0.2656 - acc: 0.9572 - val_loss: 7.0510 - val_acc: 0.9500\n",
      "Epoch 237/250\n",
      "3/3 [==============================] - 0s 28ms/step - loss: 0.2126 - acc: 0.9898 - val_loss: 7.0384 - val_acc: 0.9500\n",
      "Epoch 238/250\n",
      "3/3 [==============================] - 0s 27ms/step - loss: 0.1943 - acc: 0.9741 - val_loss: 7.0299 - val_acc: 0.9500\n",
      "Epoch 239/250\n",
      "3/3 [==============================] - 0s 28ms/step - loss: 0.2718 - acc: 0.9733 - val_loss: 7.0227 - val_acc: 0.9500\n",
      "Epoch 240/250\n",
      "3/3 [==============================] - 0s 28ms/step - loss: 0.1940 - acc: 0.9792 - val_loss: 7.0216 - val_acc: 0.9500\n",
      "Epoch 241/250\n",
      "3/3 [==============================] - 0s 30ms/step - loss: 0.3011 - acc: 0.9698 - val_loss: 7.0365 - val_acc: 0.9500\n",
      "Epoch 242/250\n",
      "3/3 [==============================] - 0s 34ms/step - loss: 0.2565 - acc: 0.9717 - val_loss: 7.0612 - val_acc: 0.9500\n",
      "Epoch 243/250\n",
      "3/3 [==============================] - 0s 30ms/step - loss: 0.1900 - acc: 0.9859 - val_loss: 7.0958 - val_acc: 0.9500\n",
      "Epoch 244/250\n",
      "3/3 [==============================] - 0s 32ms/step - loss: 0.2363 - acc: 0.9631 - val_loss: 7.1294 - val_acc: 0.9400\n",
      "Epoch 245/250\n",
      "3/3 [==============================] - 0s 33ms/step - loss: 0.1943 - acc: 0.9819 - val_loss: 7.1642 - val_acc: 0.9400\n",
      "Epoch 246/250\n",
      "3/3 [==============================] - 0s 30ms/step - loss: 0.3176 - acc: 0.9667 - val_loss: 7.2037 - val_acc: 0.9400\n",
      "Epoch 247/250\n",
      "3/3 [==============================] - 0s 29ms/step - loss: 0.1916 - acc: 0.9925 - val_loss: 7.2586 - val_acc: 0.9400\n",
      "Epoch 248/250\n",
      "3/3 [==============================] - 0s 31ms/step - loss: 0.2609 - acc: 0.9658 - val_loss: 7.2953 - val_acc: 0.9400\n",
      "Epoch 249/250\n"
     ]
    },
    {
     "name": "stdout",
     "output_type": "stream",
     "text": [
      "3/3 [==============================] - 0s 30ms/step - loss: 0.2210 - acc: 0.9745 - val_loss: 7.3092 - val_acc: 0.9400\n",
      "Epoch 250/250\n",
      "3/3 [==============================] - 0s 28ms/step - loss: 0.1703 - acc: 0.9878 - val_loss: 7.3090 - val_acc: 0.9400\n"
     ]
    },
    {
     "data": {
      "image/png": "[encoded data removed]",
      "text/plain": [
       "<Figure size 432x288 with 1 Axes>"
      ]
     },
     "metadata": {
      "needs_background": "light"
     },
     "output_type": "display_data"
    },
    {
     "data": {
      "image/png": "[encoded data removed]",
      "text/plain": [
       "<Figure size 432x288 with 1 Axes>"
      ]
     },
     "metadata": {
      "needs_background": "light"
     },
     "output_type": "display_data"
    }
   ],
   "source": [
    "harModel = myHarHandler.train_model( harModel, TrainX, TrainY, ValidationX, ValidationY, harModelCheckPoint )"
   ]
  },
  {
   "cell_type": "markdown",
   "metadata": {},
   "source": [
    "## Step8: Validating the trained neural network\n",
    "The following section validates the created network and creates a confusion matrix for the test dataset to have a detailed picture of the errors."
   ]
  },
  {
   "cell_type": "code",
   "execution_count": 10,
   "metadata": {},
   "outputs": [
    {
     "name": "stdout",
     "output_type": "stream",
     "text": [
      "3/3 [==============================] - 0s 3ms/step\n",
      "Accuracy for each class is given below.\n",
      "Gesture     : 100.0 %\n",
      "Stationary  : 83.33 %\n"
     ]
    },
    {
     "data": {
      "image/png": "[encoded data removed]",
      "text/plain": [
       "<Figure size 504x504 with 2 Axes>"
      ]
     },
     "metadata": {
      "needs_background": "light"
     },
     "output_type": "display_data"
    }
   ],
   "source": [
    "myHarHandler.make_confusion_matrix(  harModel, TestX, TestY )"
   ]
  },
  {
   "cell_type": "markdown",
   "metadata": {},
   "source": [
    "## Step9: Create an npz file for validation after conversion from CubeAI."
   ]
  },
  {
   "cell_type": "code",
   "execution_count": 11,
   "metadata": {},
   "outputs": [],
   "source": [
    "myDataHelper.dump_data_for_post_validation( TestX, TestY, nrSamplesPostValid )"
   ]
  }
 ],
 "metadata": {
  "kernelspec": {
   "display_name": "Python 3",
   "language": "python",
   "name": "python3"
  },
  "language_info": {
   "codemirror_mode": {
    "name": "ipython",
    "version": 3
   },
   "file_extension": ".py",
   "mimetype": "text/x-python",
   "name": "python",
   "nbconvert_exporter": "python",
   "pygments_lexer": "ipython3",
   "version": "3.8.5"
  },
  "varInspector": {
   "cols": {
    "lenName": 16,
    "lenType": 16,
    "lenVar": 40
   },
   "kernels_config": {
    "python": {
     "delete_cmd_postfix": "",
     "delete_cmd_prefix": "del ",
     "library": "var_list.py",
     "varRefreshCmd": "print(var_dic_list())"
    },
    "r": {
     "delete_cmd_postfix": ") ",
     "delete_cmd_prefix": "rm(",
     "library": "var_list.r",
     "varRefreshCmd": "cat(var_dic_list()) "
    }
   },
   "types_to_exclude": [
    "module",
    "function",
    "builtin_function_or_method",
    "instance",
    "_Feature"
   ],
   "window_display": false
  }
 },
 "nbformat": 4,
 "nbformat_minor": 2
}